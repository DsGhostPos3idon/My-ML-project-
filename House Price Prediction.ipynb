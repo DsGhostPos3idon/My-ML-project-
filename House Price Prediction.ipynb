{
 "cells": [
  {
   "cell_type": "code",
   "execution_count": 1,
   "id": "90f61cd0",
   "metadata": {},
   "outputs": [],
   "source": [
    "import numpy as np\n",
    "import pandas as pd\n",
    "import matplotlib.pyplot as plt\n",
    "import seaborn as sns\n",
    "import sklearn.datasets\n",
    "from sklearn.model_selection import train_test_split\n",
    "from xgboost import XGBRegressor\n",
    "from sklearn import metrics\n",
    "from sklearn.datasets import "
   ]
  },
  {
   "cell_type": "code",
   "execution_count": 2,
   "id": "3aeb2353",
   "metadata": {},
   "outputs": [
    {
     "name": "stderr",
     "output_type": "stream",
     "text": [
      "C:\\Users\\dston\\anaconda3\\envs\\DLposeidon\\lib\\site-packages\\sklearn\\utils\\deprecation.py:87: FutureWarning: Function load_boston is deprecated; `load_boston` is deprecated in 1.0 and will be removed in 1.2.\n",
      "\n",
      "    The Boston housing prices dataset has an ethical problem. You can refer to\n",
      "    the documentation of this function for further details.\n",
      "\n",
      "    The scikit-learn maintainers therefore strongly discourage the use of this\n",
      "    dataset unless the purpose of the code is to study and educate about\n",
      "    ethical issues in data science and machine learning.\n",
      "\n",
      "    In this special case, you can fetch the dataset from the original\n",
      "    source::\n",
      "\n",
      "        import pandas as pd\n",
      "        import numpy as np\n",
      "\n",
      "\n",
      "        data_url = \"http://lib.stat.cmu.edu/datasets/boston\"\n",
      "        raw_df = pd.read_csv(data_url, sep=\"\\s+\", skiprows=22, header=None)\n",
      "        data = np.hstack([raw_df.values[::2, :], raw_df.values[1::2, :2]])\n",
      "        target = raw_df.values[1::2, 2]\n",
      "\n",
      "    Alternative datasets include the California housing dataset (i.e.\n",
      "    :func:`~sklearn.datasets.fetch_california_housing`) and the Ames housing\n",
      "    dataset. You can load the datasets as follows::\n",
      "\n",
      "        from sklearn.datasets import fetch_california_housing\n",
      "        housing = fetch_california_housing()\n",
      "\n",
      "    for the California housing dataset and::\n",
      "\n",
      "        from sklearn.datasets import fetch_openml\n",
      "        housing = fetch_openml(name=\"house_prices\", as_frame=True)\n",
      "\n",
      "    for the Ames housing dataset.\n",
      "    \n",
      "  warnings.warn(msg, category=FutureWarning)\n"
     ]
    }
   ],
   "source": [
    "house_price_dataset = sklearn.datasets.load_boston()"
   ]
  },
  {
   "cell_type": "code",
   "execution_count": 4,
   "id": "632803f2",
   "metadata": {},
   "outputs": [
    {
     "name": "stdout",
     "output_type": "stream",
     "text": [
      "{'data': array([[6.3200e-03, 1.8000e+01, 2.3100e+00, ..., 1.5300e+01, 3.9690e+02,\n",
      "        4.9800e+00],\n",
      "       [2.7310e-02, 0.0000e+00, 7.0700e+00, ..., 1.7800e+01, 3.9690e+02,\n",
      "        9.1400e+00],\n",
      "       [2.7290e-02, 0.0000e+00, 7.0700e+00, ..., 1.7800e+01, 3.9283e+02,\n",
      "        4.0300e+00],\n",
      "       ...,\n",
      "       [6.0760e-02, 0.0000e+00, 1.1930e+01, ..., 2.1000e+01, 3.9690e+02,\n",
      "        5.6400e+00],\n",
      "       [1.0959e-01, 0.0000e+00, 1.1930e+01, ..., 2.1000e+01, 3.9345e+02,\n",
      "        6.4800e+00],\n",
      "       [4.7410e-02, 0.0000e+00, 1.1930e+01, ..., 2.1000e+01, 3.9690e+02,\n",
      "        7.8800e+00]]), 'target': array([24. , 21.6, 34.7, 33.4, 36.2, 28.7, 22.9, 27.1, 16.5, 18.9, 15. ,\n",
      "       18.9, 21.7, 20.4, 18.2, 19.9, 23.1, 17.5, 20.2, 18.2, 13.6, 19.6,\n",
      "       15.2, 14.5, 15.6, 13.9, 16.6, 14.8, 18.4, 21. , 12.7, 14.5, 13.2,\n",
      "       13.1, 13.5, 18.9, 20. , 21. , 24.7, 30.8, 34.9, 26.6, 25.3, 24.7,\n",
      "       21.2, 19.3, 20. , 16.6, 14.4, 19.4, 19.7, 20.5, 25. , 23.4, 18.9,\n",
      "       35.4, 24.7, 31.6, 23.3, 19.6, 18.7, 16. , 22.2, 25. , 33. , 23.5,\n",
      "       19.4, 22. , 17.4, 20.9, 24.2, 21.7, 22.8, 23.4, 24.1, 21.4, 20. ,\n",
      "       20.8, 21.2, 20.3, 28. , 23.9, 24.8, 22.9, 23.9, 26.6, 22.5, 22.2,\n",
      "       23.6, 28.7, 22.6, 22. , 22.9, 25. , 20.6, 28.4, 21.4, 38.7, 43.8,\n",
      "       33.2, 27.5, 26.5, 18.6, 19.3, 20.1, 19.5, 19.5, 20.4, 19.8, 19.4,\n",
      "       21.7, 22.8, 18.8, 18.7, 18.5, 18.3, 21.2, 19.2, 20.4, 19.3, 22. ,\n",
      "       20.3, 20.5, 17.3, 18.8, 21.4, 15.7, 16.2, 18. , 14.3, 19.2, 19.6,\n",
      "       23. , 18.4, 15.6, 18.1, 17.4, 17.1, 13.3, 17.8, 14. , 14.4, 13.4,\n",
      "       15.6, 11.8, 13.8, 15.6, 14.6, 17.8, 15.4, 21.5, 19.6, 15.3, 19.4,\n",
      "       17. , 15.6, 13.1, 41.3, 24.3, 23.3, 27. , 50. , 50. , 50. , 22.7,\n",
      "       25. , 50. , 23.8, 23.8, 22.3, 17.4, 19.1, 23.1, 23.6, 22.6, 29.4,\n",
      "       23.2, 24.6, 29.9, 37.2, 39.8, 36.2, 37.9, 32.5, 26.4, 29.6, 50. ,\n",
      "       32. , 29.8, 34.9, 37. , 30.5, 36.4, 31.1, 29.1, 50. , 33.3, 30.3,\n",
      "       34.6, 34.9, 32.9, 24.1, 42.3, 48.5, 50. , 22.6, 24.4, 22.5, 24.4,\n",
      "       20. , 21.7, 19.3, 22.4, 28.1, 23.7, 25. , 23.3, 28.7, 21.5, 23. ,\n",
      "       26.7, 21.7, 27.5, 30.1, 44.8, 50. , 37.6, 31.6, 46.7, 31.5, 24.3,\n",
      "       31.7, 41.7, 48.3, 29. , 24. , 25.1, 31.5, 23.7, 23.3, 22. , 20.1,\n",
      "       22.2, 23.7, 17.6, 18.5, 24.3, 20.5, 24.5, 26.2, 24.4, 24.8, 29.6,\n",
      "       42.8, 21.9, 20.9, 44. , 50. , 36. , 30.1, 33.8, 43.1, 48.8, 31. ,\n",
      "       36.5, 22.8, 30.7, 50. , 43.5, 20.7, 21.1, 25.2, 24.4, 35.2, 32.4,\n",
      "       32. , 33.2, 33.1, 29.1, 35.1, 45.4, 35.4, 46. , 50. , 32.2, 22. ,\n",
      "       20.1, 23.2, 22.3, 24.8, 28.5, 37.3, 27.9, 23.9, 21.7, 28.6, 27.1,\n",
      "       20.3, 22.5, 29. , 24.8, 22. , 26.4, 33.1, 36.1, 28.4, 33.4, 28.2,\n",
      "       22.8, 20.3, 16.1, 22.1, 19.4, 21.6, 23.8, 16.2, 17.8, 19.8, 23.1,\n",
      "       21. , 23.8, 23.1, 20.4, 18.5, 25. , 24.6, 23. , 22.2, 19.3, 22.6,\n",
      "       19.8, 17.1, 19.4, 22.2, 20.7, 21.1, 19.5, 18.5, 20.6, 19. , 18.7,\n",
      "       32.7, 16.5, 23.9, 31.2, 17.5, 17.2, 23.1, 24.5, 26.6, 22.9, 24.1,\n",
      "       18.6, 30.1, 18.2, 20.6, 17.8, 21.7, 22.7, 22.6, 25. , 19.9, 20.8,\n",
      "       16.8, 21.9, 27.5, 21.9, 23.1, 50. , 50. , 50. , 50. , 50. , 13.8,\n",
      "       13.8, 15. , 13.9, 13.3, 13.1, 10.2, 10.4, 10.9, 11.3, 12.3,  8.8,\n",
      "        7.2, 10.5,  7.4, 10.2, 11.5, 15.1, 23.2,  9.7, 13.8, 12.7, 13.1,\n",
      "       12.5,  8.5,  5. ,  6.3,  5.6,  7.2, 12.1,  8.3,  8.5,  5. , 11.9,\n",
      "       27.9, 17.2, 27.5, 15. , 17.2, 17.9, 16.3,  7. ,  7.2,  7.5, 10.4,\n",
      "        8.8,  8.4, 16.7, 14.2, 20.8, 13.4, 11.7,  8.3, 10.2, 10.9, 11. ,\n",
      "        9.5, 14.5, 14.1, 16.1, 14.3, 11.7, 13.4,  9.6,  8.7,  8.4, 12.8,\n",
      "       10.5, 17.1, 18.4, 15.4, 10.8, 11.8, 14.9, 12.6, 14.1, 13. , 13.4,\n",
      "       15.2, 16.1, 17.8, 14.9, 14.1, 12.7, 13.5, 14.9, 20. , 16.4, 17.7,\n",
      "       19.5, 20.2, 21.4, 19.9, 19. , 19.1, 19.1, 20.1, 19.9, 19.6, 23.2,\n",
      "       29.8, 13.8, 13.3, 16.7, 12. , 14.6, 21.4, 23. , 23.7, 25. , 21.8,\n",
      "       20.6, 21.2, 19.1, 20.6, 15.2,  7. ,  8.1, 13.6, 20.1, 21.8, 24.5,\n",
      "       23.1, 19.7, 18.3, 21.2, 17.5, 16.8, 22.4, 20.6, 23.9, 22. , 11.9]), 'feature_names': array(['CRIM', 'ZN', 'INDUS', 'CHAS', 'NOX', 'RM', 'AGE', 'DIS', 'RAD',\n",
      "       'TAX', 'PTRATIO', 'B', 'LSTAT'], dtype='<U7'), 'DESCR': \".. _boston_dataset:\\n\\nBoston house prices dataset\\n---------------------------\\n\\n**Data Set Characteristics:**  \\n\\n    :Number of Instances: 506 \\n\\n    :Number of Attributes: 13 numeric/categorical predictive. Median Value (attribute 14) is usually the target.\\n\\n    :Attribute Information (in order):\\n        - CRIM     per capita crime rate by town\\n        - ZN       proportion of residential land zoned for lots over 25,000 sq.ft.\\n        - INDUS    proportion of non-retail business acres per town\\n        - CHAS     Charles River dummy variable (= 1 if tract bounds river; 0 otherwise)\\n        - NOX      nitric oxides concentration (parts per 10 million)\\n        - RM       average number of rooms per dwelling\\n        - AGE      proportion of owner-occupied units built prior to 1940\\n        - DIS      weighted distances to five Boston employment centres\\n        - RAD      index of accessibility to radial highways\\n        - TAX      full-value property-tax rate per $10,000\\n        - PTRATIO  pupil-teacher ratio by town\\n        - B        1000(Bk - 0.63)^2 where Bk is the proportion of black people by town\\n        - LSTAT    % lower status of the population\\n        - MEDV     Median value of owner-occupied homes in $1000's\\n\\n    :Missing Attribute Values: None\\n\\n    :Creator: Harrison, D. and Rubinfeld, D.L.\\n\\nThis is a copy of UCI ML housing dataset.\\nhttps://archive.ics.uci.edu/ml/machine-learning-databases/housing/\\n\\n\\nThis dataset was taken from the StatLib library which is maintained at Carnegie Mellon University.\\n\\nThe Boston house-price data of Harrison, D. and Rubinfeld, D.L. 'Hedonic\\nprices and the demand for clean air', J. Environ. Economics & Management,\\nvol.5, 81-102, 1978.   Used in Belsley, Kuh & Welsch, 'Regression diagnostics\\n...', Wiley, 1980.   N.B. Various transformations are used in the table on\\npages 244-261 of the latter.\\n\\nThe Boston house-price data has been used in many machine learning papers that address regression\\nproblems.   \\n     \\n.. topic:: References\\n\\n   - Belsley, Kuh & Welsch, 'Regression diagnostics: Identifying Influential Data and Sources of Collinearity', Wiley, 1980. 244-261.\\n   - Quinlan,R. (1993). Combining Instance-Based and Model-Based Learning. In Proceedings on the Tenth International Conference of Machine Learning, 236-243, University of Massachusetts, Amherst. Morgan Kaufmann.\\n\", 'filename': 'boston_house_prices.csv', 'data_module': 'sklearn.datasets.data'}\n"
     ]
    }
   ],
   "source": [
    "print(house_price_dataset)"
   ]
  },
  {
   "cell_type": "code",
   "execution_count": 6,
   "id": "d9db393a",
   "metadata": {},
   "outputs": [],
   "source": [
    "data = pd.DataFrame(house_price_dataset.data, columns = house_price_dataset.feature_names)"
   ]
  },
  {
   "cell_type": "code",
   "execution_count": 7,
   "id": "72eb93ed",
   "metadata": {},
   "outputs": [
    {
     "data": {
      "text/html": [
       "<div>\n",
       "<style scoped>\n",
       "    .dataframe tbody tr th:only-of-type {\n",
       "        vertical-align: middle;\n",
       "    }\n",
       "\n",
       "    .dataframe tbody tr th {\n",
       "        vertical-align: top;\n",
       "    }\n",
       "\n",
       "    .dataframe thead th {\n",
       "        text-align: right;\n",
       "    }\n",
       "</style>\n",
       "<table border=\"1\" class=\"dataframe\">\n",
       "  <thead>\n",
       "    <tr style=\"text-align: right;\">\n",
       "      <th></th>\n",
       "      <th>CRIM</th>\n",
       "      <th>ZN</th>\n",
       "      <th>INDUS</th>\n",
       "      <th>CHAS</th>\n",
       "      <th>NOX</th>\n",
       "      <th>RM</th>\n",
       "      <th>AGE</th>\n",
       "      <th>DIS</th>\n",
       "      <th>RAD</th>\n",
       "      <th>TAX</th>\n",
       "      <th>PTRATIO</th>\n",
       "      <th>B</th>\n",
       "      <th>LSTAT</th>\n",
       "    </tr>\n",
       "  </thead>\n",
       "  <tbody>\n",
       "    <tr>\n",
       "      <th>0</th>\n",
       "      <td>0.00632</td>\n",
       "      <td>18.0</td>\n",
       "      <td>2.31</td>\n",
       "      <td>0.0</td>\n",
       "      <td>0.538</td>\n",
       "      <td>6.575</td>\n",
       "      <td>65.2</td>\n",
       "      <td>4.0900</td>\n",
       "      <td>1.0</td>\n",
       "      <td>296.0</td>\n",
       "      <td>15.3</td>\n",
       "      <td>396.90</td>\n",
       "      <td>4.98</td>\n",
       "    </tr>\n",
       "    <tr>\n",
       "      <th>1</th>\n",
       "      <td>0.02731</td>\n",
       "      <td>0.0</td>\n",
       "      <td>7.07</td>\n",
       "      <td>0.0</td>\n",
       "      <td>0.469</td>\n",
       "      <td>6.421</td>\n",
       "      <td>78.9</td>\n",
       "      <td>4.9671</td>\n",
       "      <td>2.0</td>\n",
       "      <td>242.0</td>\n",
       "      <td>17.8</td>\n",
       "      <td>396.90</td>\n",
       "      <td>9.14</td>\n",
       "    </tr>\n",
       "    <tr>\n",
       "      <th>2</th>\n",
       "      <td>0.02729</td>\n",
       "      <td>0.0</td>\n",
       "      <td>7.07</td>\n",
       "      <td>0.0</td>\n",
       "      <td>0.469</td>\n",
       "      <td>7.185</td>\n",
       "      <td>61.1</td>\n",
       "      <td>4.9671</td>\n",
       "      <td>2.0</td>\n",
       "      <td>242.0</td>\n",
       "      <td>17.8</td>\n",
       "      <td>392.83</td>\n",
       "      <td>4.03</td>\n",
       "    </tr>\n",
       "    <tr>\n",
       "      <th>3</th>\n",
       "      <td>0.03237</td>\n",
       "      <td>0.0</td>\n",
       "      <td>2.18</td>\n",
       "      <td>0.0</td>\n",
       "      <td>0.458</td>\n",
       "      <td>6.998</td>\n",
       "      <td>45.8</td>\n",
       "      <td>6.0622</td>\n",
       "      <td>3.0</td>\n",
       "      <td>222.0</td>\n",
       "      <td>18.7</td>\n",
       "      <td>394.63</td>\n",
       "      <td>2.94</td>\n",
       "    </tr>\n",
       "    <tr>\n",
       "      <th>4</th>\n",
       "      <td>0.06905</td>\n",
       "      <td>0.0</td>\n",
       "      <td>2.18</td>\n",
       "      <td>0.0</td>\n",
       "      <td>0.458</td>\n",
       "      <td>7.147</td>\n",
       "      <td>54.2</td>\n",
       "      <td>6.0622</td>\n",
       "      <td>3.0</td>\n",
       "      <td>222.0</td>\n",
       "      <td>18.7</td>\n",
       "      <td>396.90</td>\n",
       "      <td>5.33</td>\n",
       "    </tr>\n",
       "  </tbody>\n",
       "</table>\n",
       "</div>"
      ],
      "text/plain": [
       "      CRIM    ZN  INDUS  CHAS    NOX     RM   AGE     DIS  RAD    TAX  \\\n",
       "0  0.00632  18.0   2.31   0.0  0.538  6.575  65.2  4.0900  1.0  296.0   \n",
       "1  0.02731   0.0   7.07   0.0  0.469  6.421  78.9  4.9671  2.0  242.0   \n",
       "2  0.02729   0.0   7.07   0.0  0.469  7.185  61.1  4.9671  2.0  242.0   \n",
       "3  0.03237   0.0   2.18   0.0  0.458  6.998  45.8  6.0622  3.0  222.0   \n",
       "4  0.06905   0.0   2.18   0.0  0.458  7.147  54.2  6.0622  3.0  222.0   \n",
       "\n",
       "   PTRATIO       B  LSTAT  \n",
       "0     15.3  396.90   4.98  \n",
       "1     17.8  396.90   9.14  \n",
       "2     17.8  392.83   4.03  \n",
       "3     18.7  394.63   2.94  \n",
       "4     18.7  396.90   5.33  "
      ]
     },
     "execution_count": 7,
     "metadata": {},
     "output_type": "execute_result"
    }
   ],
   "source": [
    "data.head()"
   ]
  },
  {
   "cell_type": "code",
   "execution_count": 9,
   "id": "6ee53ae9",
   "metadata": {},
   "outputs": [
    {
     "data": {
      "text/plain": [
       "Index(['crim', 'zn', 'indus', 'chas', 'nox', 'rm', 'age', 'dis', 'rad', 'tax',\n",
       "       'ptratio', 'b', 'lstat'],\n",
       "      dtype='object')"
      ]
     },
     "execution_count": 9,
     "metadata": {},
     "output_type": "execute_result"
    }
   ],
   "source": [
    "data.columns = data.columns.str.lower()\n",
    "data.columns"
   ]
  },
  {
   "cell_type": "code",
   "execution_count": 10,
   "id": "7be45fbe",
   "metadata": {},
   "outputs": [
    {
     "data": {
      "text/html": [
       "<div>\n",
       "<style scoped>\n",
       "    .dataframe tbody tr th:only-of-type {\n",
       "        vertical-align: middle;\n",
       "    }\n",
       "\n",
       "    .dataframe tbody tr th {\n",
       "        vertical-align: top;\n",
       "    }\n",
       "\n",
       "    .dataframe thead th {\n",
       "        text-align: right;\n",
       "    }\n",
       "</style>\n",
       "<table border=\"1\" class=\"dataframe\">\n",
       "  <thead>\n",
       "    <tr style=\"text-align: right;\">\n",
       "      <th></th>\n",
       "      <th>0</th>\n",
       "      <th>1</th>\n",
       "      <th>2</th>\n",
       "      <th>3</th>\n",
       "      <th>4</th>\n",
       "    </tr>\n",
       "  </thead>\n",
       "  <tbody>\n",
       "    <tr>\n",
       "      <th>crim</th>\n",
       "      <td>0.00632</td>\n",
       "      <td>0.02731</td>\n",
       "      <td>0.02729</td>\n",
       "      <td>0.03237</td>\n",
       "      <td>0.06905</td>\n",
       "    </tr>\n",
       "    <tr>\n",
       "      <th>zn</th>\n",
       "      <td>18.00000</td>\n",
       "      <td>0.00000</td>\n",
       "      <td>0.00000</td>\n",
       "      <td>0.00000</td>\n",
       "      <td>0.00000</td>\n",
       "    </tr>\n",
       "    <tr>\n",
       "      <th>indus</th>\n",
       "      <td>2.31000</td>\n",
       "      <td>7.07000</td>\n",
       "      <td>7.07000</td>\n",
       "      <td>2.18000</td>\n",
       "      <td>2.18000</td>\n",
       "    </tr>\n",
       "    <tr>\n",
       "      <th>chas</th>\n",
       "      <td>0.00000</td>\n",
       "      <td>0.00000</td>\n",
       "      <td>0.00000</td>\n",
       "      <td>0.00000</td>\n",
       "      <td>0.00000</td>\n",
       "    </tr>\n",
       "    <tr>\n",
       "      <th>nox</th>\n",
       "      <td>0.53800</td>\n",
       "      <td>0.46900</td>\n",
       "      <td>0.46900</td>\n",
       "      <td>0.45800</td>\n",
       "      <td>0.45800</td>\n",
       "    </tr>\n",
       "    <tr>\n",
       "      <th>rm</th>\n",
       "      <td>6.57500</td>\n",
       "      <td>6.42100</td>\n",
       "      <td>7.18500</td>\n",
       "      <td>6.99800</td>\n",
       "      <td>7.14700</td>\n",
       "    </tr>\n",
       "    <tr>\n",
       "      <th>age</th>\n",
       "      <td>65.20000</td>\n",
       "      <td>78.90000</td>\n",
       "      <td>61.10000</td>\n",
       "      <td>45.80000</td>\n",
       "      <td>54.20000</td>\n",
       "    </tr>\n",
       "    <tr>\n",
       "      <th>dis</th>\n",
       "      <td>4.09000</td>\n",
       "      <td>4.96710</td>\n",
       "      <td>4.96710</td>\n",
       "      <td>6.06220</td>\n",
       "      <td>6.06220</td>\n",
       "    </tr>\n",
       "    <tr>\n",
       "      <th>rad</th>\n",
       "      <td>1.00000</td>\n",
       "      <td>2.00000</td>\n",
       "      <td>2.00000</td>\n",
       "      <td>3.00000</td>\n",
       "      <td>3.00000</td>\n",
       "    </tr>\n",
       "    <tr>\n",
       "      <th>tax</th>\n",
       "      <td>296.00000</td>\n",
       "      <td>242.00000</td>\n",
       "      <td>242.00000</td>\n",
       "      <td>222.00000</td>\n",
       "      <td>222.00000</td>\n",
       "    </tr>\n",
       "    <tr>\n",
       "      <th>ptratio</th>\n",
       "      <td>15.30000</td>\n",
       "      <td>17.80000</td>\n",
       "      <td>17.80000</td>\n",
       "      <td>18.70000</td>\n",
       "      <td>18.70000</td>\n",
       "    </tr>\n",
       "    <tr>\n",
       "      <th>b</th>\n",
       "      <td>396.90000</td>\n",
       "      <td>396.90000</td>\n",
       "      <td>392.83000</td>\n",
       "      <td>394.63000</td>\n",
       "      <td>396.90000</td>\n",
       "    </tr>\n",
       "    <tr>\n",
       "      <th>lstat</th>\n",
       "      <td>4.98000</td>\n",
       "      <td>9.14000</td>\n",
       "      <td>4.03000</td>\n",
       "      <td>2.94000</td>\n",
       "      <td>5.33000</td>\n",
       "    </tr>\n",
       "  </tbody>\n",
       "</table>\n",
       "</div>"
      ],
      "text/plain": [
       "                 0          1          2          3          4\n",
       "crim       0.00632    0.02731    0.02729    0.03237    0.06905\n",
       "zn        18.00000    0.00000    0.00000    0.00000    0.00000\n",
       "indus      2.31000    7.07000    7.07000    2.18000    2.18000\n",
       "chas       0.00000    0.00000    0.00000    0.00000    0.00000\n",
       "nox        0.53800    0.46900    0.46900    0.45800    0.45800\n",
       "rm         6.57500    6.42100    7.18500    6.99800    7.14700\n",
       "age       65.20000   78.90000   61.10000   45.80000   54.20000\n",
       "dis        4.09000    4.96710    4.96710    6.06220    6.06220\n",
       "rad        1.00000    2.00000    2.00000    3.00000    3.00000\n",
       "tax      296.00000  242.00000  242.00000  222.00000  222.00000\n",
       "ptratio   15.30000   17.80000   17.80000   18.70000   18.70000\n",
       "b        396.90000  396.90000  392.83000  394.63000  396.90000\n",
       "lstat      4.98000    9.14000    4.03000    2.94000    5.33000"
      ]
     },
     "execution_count": 10,
     "metadata": {},
     "output_type": "execute_result"
    }
   ],
   "source": [
    "data.head().T"
   ]
  },
  {
   "cell_type": "code",
   "execution_count": 11,
   "id": "8a95d684",
   "metadata": {},
   "outputs": [
    {
     "data": {
      "text/plain": [
       "crim       float64\n",
       "zn         float64\n",
       "indus      float64\n",
       "chas       float64\n",
       "nox        float64\n",
       "rm         float64\n",
       "age        float64\n",
       "dis        float64\n",
       "rad        float64\n",
       "tax        float64\n",
       "ptratio    float64\n",
       "b          float64\n",
       "lstat      float64\n",
       "dtype: object"
      ]
     },
     "execution_count": 11,
     "metadata": {},
     "output_type": "execute_result"
    }
   ],
   "source": [
    "data.dtypes"
   ]
  },
  {
   "cell_type": "code",
   "execution_count": 12,
   "id": "5471c223",
   "metadata": {},
   "outputs": [
    {
     "data": {
      "text/plain": [
       "(506, 13)"
      ]
     },
     "execution_count": 12,
     "metadata": {},
     "output_type": "execute_result"
    }
   ],
   "source": [
    "data.shape"
   ]
  },
  {
   "cell_type": "code",
   "execution_count": 13,
   "id": "98d2c232",
   "metadata": {},
   "outputs": [],
   "source": [
    "data['price'] = house_price_dataset.target"
   ]
  },
  {
   "cell_type": "code",
   "execution_count": 14,
   "id": "2450c998",
   "metadata": {},
   "outputs": [
    {
     "data": {
      "text/plain": [
       "(506, 14)"
      ]
     },
     "execution_count": 14,
     "metadata": {},
     "output_type": "execute_result"
    }
   ],
   "source": [
    "data.shape"
   ]
  },
  {
   "cell_type": "code",
   "execution_count": 15,
   "id": "02f982e2",
   "metadata": {},
   "outputs": [
    {
     "data": {
      "text/plain": [
       "crim       0\n",
       "zn         0\n",
       "indus      0\n",
       "chas       0\n",
       "nox        0\n",
       "rm         0\n",
       "age        0\n",
       "dis        0\n",
       "rad        0\n",
       "tax        0\n",
       "ptratio    0\n",
       "b          0\n",
       "lstat      0\n",
       "price      0\n",
       "dtype: int64"
      ]
     },
     "execution_count": 15,
     "metadata": {},
     "output_type": "execute_result"
    }
   ],
   "source": [
    "data.isnull().sum()"
   ]
  },
  {
   "cell_type": "code",
   "execution_count": 17,
   "id": "1023a203",
   "metadata": {},
   "outputs": [
    {
     "data": {
      "text/html": [
       "<div>\n",
       "<style scoped>\n",
       "    .dataframe tbody tr th:only-of-type {\n",
       "        vertical-align: middle;\n",
       "    }\n",
       "\n",
       "    .dataframe tbody tr th {\n",
       "        vertical-align: top;\n",
       "    }\n",
       "\n",
       "    .dataframe thead th {\n",
       "        text-align: right;\n",
       "    }\n",
       "</style>\n",
       "<table border=\"1\" class=\"dataframe\">\n",
       "  <thead>\n",
       "    <tr style=\"text-align: right;\">\n",
       "      <th></th>\n",
       "      <th>crim</th>\n",
       "      <th>zn</th>\n",
       "      <th>indus</th>\n",
       "      <th>chas</th>\n",
       "      <th>nox</th>\n",
       "      <th>rm</th>\n",
       "      <th>age</th>\n",
       "      <th>dis</th>\n",
       "      <th>rad</th>\n",
       "      <th>tax</th>\n",
       "      <th>ptratio</th>\n",
       "      <th>b</th>\n",
       "      <th>lstat</th>\n",
       "      <th>price</th>\n",
       "    </tr>\n",
       "  </thead>\n",
       "  <tbody>\n",
       "    <tr>\n",
       "      <th>count</th>\n",
       "      <td>506.0</td>\n",
       "      <td>506.0</td>\n",
       "      <td>506.0</td>\n",
       "      <td>506.0</td>\n",
       "      <td>506.0</td>\n",
       "      <td>506.0</td>\n",
       "      <td>506.0</td>\n",
       "      <td>506.0</td>\n",
       "      <td>506.0</td>\n",
       "      <td>506.0</td>\n",
       "      <td>506.0</td>\n",
       "      <td>506.0</td>\n",
       "      <td>506.0</td>\n",
       "      <td>506.0</td>\n",
       "    </tr>\n",
       "    <tr>\n",
       "      <th>mean</th>\n",
       "      <td>4.0</td>\n",
       "      <td>11.0</td>\n",
       "      <td>11.0</td>\n",
       "      <td>0.0</td>\n",
       "      <td>1.0</td>\n",
       "      <td>6.0</td>\n",
       "      <td>69.0</td>\n",
       "      <td>4.0</td>\n",
       "      <td>10.0</td>\n",
       "      <td>408.0</td>\n",
       "      <td>18.0</td>\n",
       "      <td>357.0</td>\n",
       "      <td>13.0</td>\n",
       "      <td>23.0</td>\n",
       "    </tr>\n",
       "    <tr>\n",
       "      <th>std</th>\n",
       "      <td>9.0</td>\n",
       "      <td>23.0</td>\n",
       "      <td>7.0</td>\n",
       "      <td>0.0</td>\n",
       "      <td>0.0</td>\n",
       "      <td>1.0</td>\n",
       "      <td>28.0</td>\n",
       "      <td>2.0</td>\n",
       "      <td>9.0</td>\n",
       "      <td>169.0</td>\n",
       "      <td>2.0</td>\n",
       "      <td>91.0</td>\n",
       "      <td>7.0</td>\n",
       "      <td>9.0</td>\n",
       "    </tr>\n",
       "    <tr>\n",
       "      <th>min</th>\n",
       "      <td>0.0</td>\n",
       "      <td>0.0</td>\n",
       "      <td>0.0</td>\n",
       "      <td>0.0</td>\n",
       "      <td>0.0</td>\n",
       "      <td>4.0</td>\n",
       "      <td>3.0</td>\n",
       "      <td>1.0</td>\n",
       "      <td>1.0</td>\n",
       "      <td>187.0</td>\n",
       "      <td>13.0</td>\n",
       "      <td>0.0</td>\n",
       "      <td>2.0</td>\n",
       "      <td>5.0</td>\n",
       "    </tr>\n",
       "    <tr>\n",
       "      <th>25%</th>\n",
       "      <td>0.0</td>\n",
       "      <td>0.0</td>\n",
       "      <td>5.0</td>\n",
       "      <td>0.0</td>\n",
       "      <td>0.0</td>\n",
       "      <td>6.0</td>\n",
       "      <td>45.0</td>\n",
       "      <td>2.0</td>\n",
       "      <td>4.0</td>\n",
       "      <td>279.0</td>\n",
       "      <td>17.0</td>\n",
       "      <td>375.0</td>\n",
       "      <td>7.0</td>\n",
       "      <td>17.0</td>\n",
       "    </tr>\n",
       "    <tr>\n",
       "      <th>50%</th>\n",
       "      <td>0.0</td>\n",
       "      <td>0.0</td>\n",
       "      <td>10.0</td>\n",
       "      <td>0.0</td>\n",
       "      <td>1.0</td>\n",
       "      <td>6.0</td>\n",
       "      <td>78.0</td>\n",
       "      <td>3.0</td>\n",
       "      <td>5.0</td>\n",
       "      <td>330.0</td>\n",
       "      <td>19.0</td>\n",
       "      <td>391.0</td>\n",
       "      <td>11.0</td>\n",
       "      <td>21.0</td>\n",
       "    </tr>\n",
       "    <tr>\n",
       "      <th>75%</th>\n",
       "      <td>4.0</td>\n",
       "      <td>12.0</td>\n",
       "      <td>18.0</td>\n",
       "      <td>0.0</td>\n",
       "      <td>1.0</td>\n",
       "      <td>7.0</td>\n",
       "      <td>94.0</td>\n",
       "      <td>5.0</td>\n",
       "      <td>24.0</td>\n",
       "      <td>666.0</td>\n",
       "      <td>20.0</td>\n",
       "      <td>396.0</td>\n",
       "      <td>17.0</td>\n",
       "      <td>25.0</td>\n",
       "    </tr>\n",
       "    <tr>\n",
       "      <th>max</th>\n",
       "      <td>89.0</td>\n",
       "      <td>100.0</td>\n",
       "      <td>28.0</td>\n",
       "      <td>1.0</td>\n",
       "      <td>1.0</td>\n",
       "      <td>9.0</td>\n",
       "      <td>100.0</td>\n",
       "      <td>12.0</td>\n",
       "      <td>24.0</td>\n",
       "      <td>711.0</td>\n",
       "      <td>22.0</td>\n",
       "      <td>397.0</td>\n",
       "      <td>38.0</td>\n",
       "      <td>50.0</td>\n",
       "    </tr>\n",
       "  </tbody>\n",
       "</table>\n",
       "</div>"
      ],
      "text/plain": [
       "        crim     zn  indus   chas    nox     rm    age    dis    rad    tax  \\\n",
       "count  506.0  506.0  506.0  506.0  506.0  506.0  506.0  506.0  506.0  506.0   \n",
       "mean     4.0   11.0   11.0    0.0    1.0    6.0   69.0    4.0   10.0  408.0   \n",
       "std      9.0   23.0    7.0    0.0    0.0    1.0   28.0    2.0    9.0  169.0   \n",
       "min      0.0    0.0    0.0    0.0    0.0    4.0    3.0    1.0    1.0  187.0   \n",
       "25%      0.0    0.0    5.0    0.0    0.0    6.0   45.0    2.0    4.0  279.0   \n",
       "50%      0.0    0.0   10.0    0.0    1.0    6.0   78.0    3.0    5.0  330.0   \n",
       "75%      4.0   12.0   18.0    0.0    1.0    7.0   94.0    5.0   24.0  666.0   \n",
       "max     89.0  100.0   28.0    1.0    1.0    9.0  100.0   12.0   24.0  711.0   \n",
       "\n",
       "       ptratio      b  lstat  price  \n",
       "count    506.0  506.0  506.0  506.0  \n",
       "mean      18.0  357.0   13.0   23.0  \n",
       "std        2.0   91.0    7.0    9.0  \n",
       "min       13.0    0.0    2.0    5.0  \n",
       "25%       17.0  375.0    7.0   17.0  \n",
       "50%       19.0  391.0   11.0   21.0  \n",
       "75%       20.0  396.0   17.0   25.0  \n",
       "max       22.0  397.0   38.0   50.0  "
      ]
     },
     "execution_count": 17,
     "metadata": {},
     "output_type": "execute_result"
    }
   ],
   "source": [
    "round(data.describe())"
   ]
  },
  {
   "cell_type": "code",
   "execution_count": 18,
   "id": "66d27ce5",
   "metadata": {},
   "outputs": [],
   "source": [
    "corr = data.corr()"
   ]
  },
  {
   "cell_type": "code",
   "execution_count": 20,
   "id": "0ac9a396",
   "metadata": {},
   "outputs": [
    {
     "data": {
      "text/plain": [
       "<AxesSubplot:>"
      ]
     },
     "execution_count": 20,
     "metadata": {},
     "output_type": "execute_result"
    },
    {
     "data": {
      "image/png": "[encoded data removed]",
      "text/plain": [
       "<Figure size 720x720 with 2 Axes>"
      ]
     },
     "metadata": {
      "needs_background": "light"
     },
     "output_type": "display_data"
    }
   ],
   "source": [
    "plt.figure(figsize=(10,10))\n",
    "sns.heatmap(corr, cbar=True, square=True, fmt='.1f', annot=True, annot_kws={'size':10}, cmap='Blues')"
   ]
  },
  {
   "cell_type": "code",
   "execution_count": 21,
   "id": "cbbbf340",
   "metadata": {},
   "outputs": [],
   "source": [
    "X_train = data.drop(['price'], axis=1)\n",
    "y_train = data['price']"
   ]
  },
  {
   "cell_type": "code",
   "execution_count": 22,
   "id": "4e77ad93",
   "metadata": {},
   "outputs": [
    {
     "name": "stdout",
     "output_type": "stream",
     "text": [
      "        crim    zn  indus  chas    nox     rm   age     dis  rad    tax  \\\n",
      "0    0.00632  18.0   2.31   0.0  0.538  6.575  65.2  4.0900  1.0  296.0   \n",
      "1    0.02731   0.0   7.07   0.0  0.469  6.421  78.9  4.9671  2.0  242.0   \n",
      "2    0.02729   0.0   7.07   0.0  0.469  7.185  61.1  4.9671  2.0  242.0   \n",
      "3    0.03237   0.0   2.18   0.0  0.458  6.998  45.8  6.0622  3.0  222.0   \n",
      "4    0.06905   0.0   2.18   0.0  0.458  7.147  54.2  6.0622  3.0  222.0   \n",
      "..       ...   ...    ...   ...    ...    ...   ...     ...  ...    ...   \n",
      "501  0.06263   0.0  11.93   0.0  0.573  6.593  69.1  2.4786  1.0  273.0   \n",
      "502  0.04527   0.0  11.93   0.0  0.573  6.120  76.7  2.2875  1.0  273.0   \n",
      "503  0.06076   0.0  11.93   0.0  0.573  6.976  91.0  2.1675  1.0  273.0   \n",
      "504  0.10959   0.0  11.93   0.0  0.573  6.794  89.3  2.3889  1.0  273.0   \n",
      "505  0.04741   0.0  11.93   0.0  0.573  6.030  80.8  2.5050  1.0  273.0   \n",
      "\n",
      "     ptratio       b  lstat  \n",
      "0       15.3  396.90   4.98  \n",
      "1       17.8  396.90   9.14  \n",
      "2       17.8  392.83   4.03  \n",
      "3       18.7  394.63   2.94  \n",
      "4       18.7  396.90   5.33  \n",
      "..       ...     ...    ...  \n",
      "501     21.0  391.99   9.67  \n",
      "502     21.0  396.90   9.08  \n",
      "503     21.0  396.90   5.64  \n",
      "504     21.0  393.45   6.48  \n",
      "505     21.0  396.90   7.88  \n",
      "\n",
      "[506 rows x 13 columns]\n",
      "0      24.0\n",
      "1      21.6\n",
      "2      34.7\n",
      "3      33.4\n",
      "4      36.2\n",
      "       ... \n",
      "501    22.4\n",
      "502    20.6\n",
      "503    23.9\n",
      "504    22.0\n",
      "505    11.9\n",
      "Name: price, Length: 506, dtype: float64\n"
     ]
    }
   ],
   "source": [
    "print(X_train)\n",
    "print(y_train)"
   ]
  },
  {
   "cell_type": "code",
   "execution_count": 23,
   "id": "0527b81f",
   "metadata": {},
   "outputs": [],
   "source": [
    "Xtrain, Xtest, ytrain, ytest = train_test_split(X_train, y_train, test_size = 0.2, random_state = 2)"
   ]
  },
  {
   "cell_type": "code",
   "execution_count": 24,
   "id": "85db166a",
   "metadata": {},
   "outputs": [
    {
     "name": "stdout",
     "output_type": "stream",
     "text": [
      "(506, 13) (404, 13) (102, 13)\n"
     ]
    }
   ],
   "source": [
    "print(X_train.shape, Xtrain.shape, Xtest.shape)"
   ]
  },
  {
   "cell_type": "code",
   "execution_count": 25,
   "id": "e85642d1",
   "metadata": {},
   "outputs": [],
   "source": [
    "xgbmodel = XGBRegressor()"
   ]
  },
  {
   "cell_type": "code",
   "execution_count": 26,
   "id": "fe206a83",
   "metadata": {},
   "outputs": [
    {
     "data": {
      "text/plain": [
       "XGBRegressor(base_score=0.5, booster='gbtree', callbacks=None,\n",
       "             colsample_bylevel=1, colsample_bynode=1, colsample_bytree=1,\n",
       "             early_stopping_rounds=None, enable_categorical=False,\n",
       "             eval_metric=None, gamma=0, gpu_id=-1, grow_policy='depthwise',\n",
       "             importance_type=None, interaction_constraints='',\n",
       "             learning_rate=0.300000012, max_bin=256, max_cat_to_onehot=4,\n",
       "             max_delta_step=0, max_depth=6, max_leaves=0, min_child_weight=1,\n",
       "             missing=nan, monotone_constraints='()', n_estimators=100, n_jobs=0,\n",
       "             num_parallel_tree=1, predictor='auto', random_state=0, reg_alpha=0,\n",
       "             reg_lambda=1, ...)"
      ]
     },
     "execution_count": 26,
     "metadata": {},
     "output_type": "execute_result"
    }
   ],
   "source": [
    "xgbmodel.fit(Xtrain, ytrain)"
   ]
  },
  {
   "cell_type": "code",
   "execution_count": 28,
   "id": "6fbc282d",
   "metadata": {},
   "outputs": [
    {
     "name": "stdout",
     "output_type": "stream",
     "text": [
      "[23.147501  20.99463   20.090284  34.69053   13.903663  13.510157\n",
      " 21.998634  15.1940975 10.899711  22.709627  13.832816   5.592794\n",
      " 29.810236  49.99096   34.89215   20.607384  23.351097  19.23555\n",
      " 32.695698  19.641418  26.991022   8.401829  46.00729   21.708961\n",
      " 27.062933  19.321356  19.288303  24.809872  22.61626   31.70493\n",
      " 18.542515   8.697379  17.395294  23.700663  13.304856  10.492197\n",
      " 12.688369  25.016556  19.67495   14.902088  24.193798  25.007143\n",
      " 14.900281  16.995798  15.6009035 12.699232  24.51537   14.999952\n",
      " 50.00104   17.525454  21.184624  31.998049  15.613355  22.89754\n",
      " 19.325378  18.717896  23.301125  37.222923  30.09486   33.102703\n",
      " 21.00072   49.999332  13.405827   5.0280113 16.492886   8.405072\n",
      " 28.64328   19.499939  20.586452  45.402164  39.79833   33.407326\n",
      " 19.83506   33.406372  25.271482  50.001534  12.521657  17.457413\n",
      " 18.61758   22.602625  50.002117  23.801117  23.317268  23.087355\n",
      " 41.700035  16.119293  31.620516  36.069206   7.0022025 20.3827\n",
      " 19.996452  11.986318  25.023014  49.970123  37.881588  23.123034\n",
      " 41.292133  17.596548  16.305374  30.034231  22.860699  19.810343\n",
      " 17.098848  18.898268  18.96717   22.606049  23.141363  33.183487\n",
      " 15.010934  11.693824  18.78828   20.80524   17.99983   19.68991\n",
      " 50.00332   17.207317  16.404053  17.520426  14.593481  33.110855\n",
      " 14.508482  43.821655  34.939106  20.381636  14.655634   8.094332\n",
      " 11.7662115 11.846876  18.69599    6.314154  23.983706  13.084503\n",
      " 19.603905  49.989143  22.300608  18.930315  31.197134  20.69645\n",
      " 32.21111   36.15102   14.240763  15.698188  49.99381   20.423601\n",
      " 16.184978  13.409128  50.01321   31.602146  12.271495  19.219482\n",
      " 29.794909  31.536846  22.798779  10.189648  24.08648   23.710463\n",
      " 21.991894  13.802495  28.420696  33.181534  13.105958  18.988266\n",
      " 26.576572  36.967175  30.794083  22.77071   10.201246  22.213818\n",
      " 24.483162  36.178806  23.09194   20.097307  19.470194  10.786644\n",
      " 22.671095  19.502405  20.109184   9.611871  42.799637  48.794792\n",
      " 13.097208  20.28583   24.793974  14.110478  21.701134  22.217012\n",
      " 33.003544  21.11041   25.00658   19.122992  32.398567  13.605098\n",
      " 15.1145315 23.088867  27.474783  19.364998  26.487135  27.499458\n",
      " 28.697094  21.21718   18.703201  26.775208  14.010719  21.692347\n",
      " 18.372562  43.11582   29.081839  20.289959  23.680176  18.308306\n",
      " 17.204844  18.320065  24.393475  26.396057  19.094141  13.3019905\n",
      " 22.15311   22.185797   8.516214  18.894428  21.792608  19.331121\n",
      " 18.197924   7.5006843 22.406403  20.004215  14.412416  22.503702\n",
      " 28.53306   21.591028  13.810223  20.497831  21.898977  23.104464\n",
      " 49.99585   16.242056  30.294561  50.001595  17.771557  19.053703\n",
      " 10.399217  20.378187  16.49973   17.183376  16.70228   19.495337\n",
      " 30.507633  28.98067   19.528809  23.148346  24.391027   9.521643\n",
      " 23.886024  49.995125  21.167099  22.597813  19.965279  13.4072275\n",
      " 19.948694  17.087479  12.738807  23.00453   15.222122  20.604322\n",
      " 26.207253  18.09243   24.090246  14.105     21.689667  20.08065\n",
      " 25.010437  27.874954  22.92366   18.509727  22.190847  24.004797\n",
      " 14.788686  19.89675   24.39812   17.796036  24.556297  31.970308\n",
      " 17.774675  23.356768  16.134794  13.009915  10.98219   24.28906\n",
      " 15.56895   35.209793  19.605724  42.301712   8.797891  24.400295\n",
      " 14.086652  15.408639  17.301126  22.127419  23.09363   44.79579\n",
      " 17.776684  31.50014   22.835577  16.888603  23.925127  12.097476\n",
      " 38.685944  21.388391  15.98878   23.912495  11.909485  24.960499\n",
      "  7.2018585 24.696215  18.201897  22.489008  23.03332   24.260433\n",
      " 17.101519  17.805563  13.493165  27.105328  13.311978  21.913465\n",
      " 20.00738   15.405392  16.595737  22.301016  24.708412  21.422579\n",
      " 22.878702  29.606575  21.877811  19.900253  29.605219  23.407152\n",
      " 13.781474  24.454706  11.897682   7.2203646 20.521074   9.725295\n",
      " 48.30087   25.19501   11.688618  17.404732  14.480284  28.618876\n",
      " 19.397131  22.468653   7.0117908 20.602013  22.970919  19.719397\n",
      " 23.693787  25.048244  27.977154  13.393578  14.513882  20.309145\n",
      " 19.306028  24.095829  14.894031  26.382381  33.298378  23.61644\n",
      " 24.591206  18.514652  20.900269  10.406055  23.303423  13.092017\n",
      " 24.675085  22.582184  20.502762  16.820635  10.220605  33.81239\n",
      " 18.608067  49.999187  23.775583  23.909609  21.192276  18.805798\n",
      "  8.502987  21.50807   23.204473  21.012218  16.611097  28.100965\n",
      " 21.193024  28.419638  14.294126  49.99958   30.988504  24.991066\n",
      " 21.433628  18.975573  28.991457  15.206939  22.817244  21.765755\n",
      " 19.915497  23.7961   ]\n"
     ]
    }
   ],
   "source": [
    "data_pred = xgbmodel.predict(Xtrain)\n",
    "print(data_pred)"
   ]
  },
  {
   "cell_type": "code",
   "execution_count": 30,
   "id": "014ebd7e",
   "metadata": {},
   "outputs": [
    {
     "name": "stdout",
     "output_type": "stream",
     "text": [
      "R squared error :  0.9999948236320982\n",
      "Mean Absolute Error :  0.0145848437110976\n"
     ]
    }
   ],
   "source": [
    "\n",
    "score_1 = metrics.r2_score(ytrain, data_pred)\n",
    "score_2 = metrics.mean_absolute_error(ytrain, data_pred)\n",
    "\n",
    "print(\"R squared error : \", score_1)\n",
    "print('Mean Absolute Error : ', score_2)"
   ]
  },
  {
   "cell_type": "code",
   "execution_count": 31,
   "id": "2f7a2cba",
   "metadata": {
    "scrolled": true
   },
   "outputs": [
    {
     "data": {
      "image/png": "[encoded data removed]",
      "text/plain": [
       "<Figure size 432x288 with 1 Axes>"
      ]
     },
     "metadata": {
      "needs_background": "light"
     },
     "output_type": "display_data"
    }
   ],
   "source": [
    "plt.scatter(ytrain, data_pred)\n",
    "plt.xlabel(\"Actual Prices\")\n",
    "plt.ylabel(\"Predicted Prices\")\n",
    "plt.title(\"Actual Price vs Preicted Price\")\n",
    "plt.show()"
   ]
  },
  {
   "cell_type": "code",
   "execution_count": 32,
   "id": "d8734d03",
   "metadata": {},
   "outputs": [],
   "source": [
    "test_data_prediction = xgbmodel.predict(Xtest)"
   ]
  },
  {
   "cell_type": "code",
   "execution_count": 34,
   "id": "02ac9207",
   "metadata": {},
   "outputs": [
    {
     "name": "stdout",
     "output_type": "stream",
     "text": [
      "R squared error :  0.8711660369151691\n",
      "Mean Absolute Error :  2.2834744154238233\n"
     ]
    }
   ],
   "source": [
    "score_1 = metrics.r2_score(ytest, test_data_prediction)\n",
    "\n",
    "# Mean Absolute Error\n",
    "score_2 = metrics.mean_absolute_error(ytest, test_data_prediction)\n",
    "\n",
    "print(\"R squared error : \", score_1)\n",
    "print('Mean Absolute Error : ', score_2)"
   ]
  },
  {
   "cell_type": "code",
   "execution_count": 35,
   "id": "d5f3ec50",
   "metadata": {},
   "outputs": [],
   "source": [
    "from sklearn.linear_model import LinearRegression\n",
    "from sklearn.linear_model import Ridge\n",
    "from sklearn.linear_model import Lasso\n",
    "from sklearn.tree import DecisionTreeRegressor\n",
    "from sklearn.ensemble import RandomForestRegressor\n",
    "from xgboost import XGBRegressor\n",
    "from sklearn.metrics import mean_absolute_error\n",
    "from sklearn.metrics import mean_squared_error\n",
    "from sklearn.model_selection import cross_val_score\n",
    "from sklearn.model_selection import GridSearchCV\n",
    "from sklearn.metrics import mean_squared_error, r2_score\n",
    "from sklearn.metrics import accuracy_score\n",
    "from sklearn.ensemble import RandomForestClassifier"
   ]
  },
  {
   "cell_type": "code",
   "execution_count": 38,
   "id": "824f0332",
   "metadata": {},
   "outputs": [],
   "source": [
    "lin_model = LinearRegression()\n",
    "rigde_model = Ridge()\n",
    "lasso_model = Lasso()\n",
    "rf_model = RandomForestRegressor()"
   ]
  },
  {
   "cell_type": "code",
   "execution_count": 39,
   "id": "0c295c45",
   "metadata": {},
   "outputs": [
    {
     "data": {
      "text/plain": [
       "LinearRegression()"
      ]
     },
     "execution_count": 39,
     "metadata": {},
     "output_type": "execute_result"
    }
   ],
   "source": [
    "lin_model.fit(Xtrain, ytrain)"
   ]
  },
  {
   "cell_type": "code",
   "execution_count": 41,
   "id": "58b717fd",
   "metadata": {},
   "outputs": [
    {
     "name": "stdout",
     "output_type": "stream",
     "text": [
      "[25.01156658 23.20086342 19.63206629 30.79723661 13.29598163 12.35655178\n",
      " 21.17619058 11.52105413 13.48284934 23.29619143 16.67181245 11.9640623\n",
      " 32.53526883 25.38737924 29.80188665 19.51269487 24.14966495 24.10079632\n",
      " 30.6933436  19.14366521 33.53309203  3.93459665 41.11203484 24.48533152\n",
      " 20.09948308 23.54618062 21.50057915 25.02443747 22.39275602 33.67942244\n",
      " 25.49286716  8.07877994 17.45164918 10.02711469 20.30483806 12.97802751\n",
      " 18.36662544 25.4320083  14.00655745 17.89557148 24.77620977 28.90131112\n",
      " 17.27439484 23.1865498  12.62489379 11.32274928 27.4978866  19.49269776\n",
      " 44.80229099 16.9529603  22.44602306 33.66680303 20.2706101  20.70205114\n",
      " 20.98558754 21.63228494 27.05322369 33.11940621 25.61757987 32.73314444\n",
      " 20.91920151 41.11899411 15.32086807  8.42394611 22.84480968 13.72210624\n",
      " 28.60744627 17.09291577 26.76454185 39.14699941 34.90240572 35.55989745\n",
      " 21.98217997 28.96612576 25.11129326 42.52704888 19.53053513 22.63970213\n",
      " 17.14416523 27.37214688 33.68385271 25.77228001 26.24424086 23.51671109\n",
      " 38.37874691 21.05215588 32.77319902 33.03217239 -4.99084337 19.70869674\n",
      " 17.53251776 11.63087343 24.37500382 39.99098154 34.33616475 16.55822485\n",
      " 33.62539378 16.78523177 11.71881496 30.24766044 23.52649475 22.71964065\n",
      " 19.89998196 14.94058956 24.0411572  27.01081567 17.5097719  32.38533538\n",
      " 25.53625294 13.86453233 21.05881776 19.05114816 18.5170317  23.34986869\n",
      " 24.71339021 16.1623271  19.05863819 16.98607725  8.72535475 35.06123857\n",
      " 13.86563411 35.03610888 34.61633915 20.3669489  19.44030688  2.87170863\n",
      " 11.30196694  8.97050229 18.14348669 10.55691066 25.5732119  15.87329849\n",
      " 18.90740876 35.93301204 26.82695358 22.28741025 28.53359756 26.00168528\n",
      " 31.18993167 27.97440868 18.41724093 13.5993944  42.72592178 23.0210958\n",
      " 14.78973798 12.84726573 37.44250884 33.2039081  13.30830559 19.72666214\n",
      " 25.65731817 33.17026674 28.9361232   6.55637493 25.11327024 27.43071798\n",
      " 27.75911658  0.74222258 30.7220372  35.85937101 13.5334666  21.32097573\n",
      " 27.97387938 30.88962744 30.90511804 26.80570738 16.9940276  22.35736411\n",
      " 20.465438   28.27376296 25.09545633 21.49008155 20.29604079 11.41742797\n",
      " 25.18261621 18.54487211 24.06079842 13.99965683 29.78355432 41.5929612\n",
      " 20.62012545 23.8276389  25.93255817 18.01023833 21.37048112 26.05289226\n",
      " 23.79104828 22.02893135 28.54411967 19.977294   36.34457447 13.37592811\n",
      " 17.67904907 24.39679819 19.3946807  17.5603918  25.58117479 15.28929542\n",
      " 25.7500299  23.0438057  20.98327844 34.04641966 12.81688819 22.92942397\n",
      " 15.46674891 37.85194706 30.04222072 22.31900246 27.43040153 20.58228157\n",
      " 15.15768275 19.25579532 23.59829654 23.13046816 17.03879912 15.94418453\n",
      " 19.32219776 24.33797611 16.68132094 19.52805566 21.26940197 22.1534195\n",
      " 14.09496175 12.40527507 23.20831574 22.42471213  9.12140944 29.25621886\n",
      " 32.80831465 25.86201139 11.62137768 19.84150339 38.09467711 11.05373588\n",
      " 26.90663588 20.85724739 32.6841778  43.80160701 15.95271399 16.97301985\n",
      "  6.37739499 20.67384559 11.84200487 13.53899427 20.71970632 20.21106805\n",
      " 30.57739928 32.47938573 17.80155692 22.63976857 28.40687675 12.35495953\n",
      " 27.54333876 35.64415443 21.15197831 24.49399672 20.32459815 12.26716982\n",
      " 18.97792609 17.59992415 12.15559499 30.4916216  19.66645327 22.19445896\n",
      " 24.06391579 16.82156028 29.33635651 15.28965592 20.40291757 15.6116252\n",
      " 22.63833185 31.16189781 28.50860971 13.63663087 24.3658225  30.62169482\n",
      " 14.54609203 20.4321128  24.18192711 20.5360713  29.7594893  33.49644656\n",
      "  9.83332265 28.590124   18.92892822 17.33759179 13.61826149 29.47884134\n",
      " 12.41233698 35.64956141 21.26856716 36.8169141   5.55950912 23.81982508\n",
      " 17.9324942  15.07510072 15.42245848 26.97777726 20.41903209 38.6114795\n",
      " 22.71069268 31.33014733 29.01673396 20.61052353 27.83718818 18.44738043\n",
      " 35.98383922 21.83503448 18.85872095 27.14655071 22.29402596 25.17153403\n",
      "  8.11155344 24.9463064  18.47112082 22.16006626 23.71682122 20.18377773\n",
      " 18.95621158 17.706285   13.30710491 27.53082357 13.26599659 24.01661292\n",
      " 22.90437015 18.39013246 15.62183187 27.36333968 24.47958466 24.96000871\n",
      " 25.06397898 24.94965861 16.02454309 19.36627488 24.94482632 23.60194408\n",
      "  6.06740501 21.45298844  8.45417985 18.04937226 20.32632213 10.18010598\n",
      " 37.40231013 26.87275677 15.75232136 15.41749288 17.56011189 28.47765873\n",
      " 17.40779186 17.78981164  7.6224643  21.52693835 19.80693491 21.42674362\n",
      " 28.42874263 27.76910898 28.28672394 15.90099006 18.26898963 21.80347011\n",
      " 17.42521739 20.86504198 14.66170284 28.7645307  36.33961093 31.14991214\n",
      " 24.58854088 19.72379336 21.58459359 14.47555161 21.90858257 14.26024874\n",
      " 22.8270719  19.74198004 24.37195645 21.15455018 15.5329141  35.41735828\n",
      " 19.10619316 40.7099519  22.96645323 25.70676803 23.60985    19.89227806\n",
      "  7.237513   25.52236921 27.10218785 21.37080002 18.2333185  24.94737833\n",
      " 21.35608367 28.75315605 16.69479879 41.41493742 35.08212792 23.33779405\n",
      " 23.83343182 13.86646948 31.85846661 15.79597922 24.26175987 20.67021876\n",
      " 19.39905675 26.51544346]\n"
     ]
    }
   ],
   "source": [
    "lin_data_pred = lin_model.predict(Xtrain)\n",
    "print(lin_data_pred)"
   ]
  },
  {
   "cell_type": "code",
   "execution_count": 42,
   "id": "b2f2ccaa",
   "metadata": {},
   "outputs": [
    {
     "name": "stdout",
     "output_type": "stream",
     "text": [
      "R squared error :  0.7285831776605591\n",
      "Mean Absolute Error :  3.384457539916797\n"
     ]
    }
   ],
   "source": [
    "score_1 = metrics.r2_score(ytrain, lin_data_pred)\n",
    "score_2 = metrics.mean_absolute_error(ytrain, lin_data_pred)\n",
    "\n",
    "print(\"R squared error : \", score_1)\n",
    "print('Mean Absolute Error : ', score_2)"
   ]
  },
  {
   "cell_type": "code",
   "execution_count": 43,
   "id": "d0c7fefd",
   "metadata": {},
   "outputs": [
    {
     "data": {
      "image/png": "[encoded data removed]",
      "text/plain": [
       "<Figure size 432x288 with 1 Axes>"
      ]
     },
     "metadata": {
      "needs_background": "light"
     },
     "output_type": "display_data"
    }
   ],
   "source": [
    "plt.scatter(ytrain, lin_data_pred)\n",
    "plt.xlabel(\"Actual Prices\")\n",
    "plt.ylabel(\"Predicted Prices\")\n",
    "plt.title(\"Actual Price vs Preicted Price\")\n",
    "plt.show()"
   ]
  },
  {
   "cell_type": "code",
   "execution_count": 73,
   "id": "9bfdfd57",
   "metadata": {},
   "outputs": [],
   "source": [
    "lin_test_data_prediction = lin_model.predict(Xtest)"
   ]
  },
  {
   "cell_type": "code",
   "execution_count": 46,
   "id": "3d1d2793",
   "metadata": {},
   "outputs": [
    {
     "name": "stdout",
     "output_type": "stream",
     "text": [
      "R squared error :  0.7789207451814422\n",
      "Mean Absolute Error :  3.1130437468934176\n"
     ]
    }
   ],
   "source": [
    "score_1 = metrics.r2_score(ytest, test_data_prediction)\n",
    "\n",
    "# Mean Absolute Error\n",
    "score_2 = metrics.mean_absolute_error(ytest, test_data_prediction)\n",
    "\n",
    "print(\"R squared error : \", score_1)\n",
    "print('Mean Absolute Error : ', score_2)"
   ]
  },
  {
   "cell_type": "code",
   "execution_count": 74,
   "id": "1e864dbb",
   "metadata": {},
   "outputs": [
    {
     "data": {
      "image/png": "[encoded data removed]",
      "text/plain": [
       "<Figure size 432x288 with 1 Axes>"
      ]
     },
     "metadata": {
      "needs_background": "light"
     },
     "output_type": "display_data"
    }
   ],
   "source": [
    "plt.scatter(ytest, lin_test_data_prediction)\n",
    "plt.xlabel(\"Actual Prices\")\n",
    "plt.ylabel(\"Predicted Prices\")\n",
    "plt.title(\"Actual Price vs Preicted Price\")\n",
    "plt.show()"
   ]
  },
  {
   "cell_type": "code",
   "execution_count": 52,
   "id": "a8121113",
   "metadata": {},
   "outputs": [
    {
     "data": {
      "text/plain": [
       "RandomForestRegressor()"
      ]
     },
     "execution_count": 52,
     "metadata": {},
     "output_type": "execute_result"
    }
   ],
   "source": [
    "rf_model.fit(Xtrain, ytrain)"
   ]
  },
  {
   "cell_type": "code",
   "execution_count": 53,
   "id": "4bbeb7d3",
   "metadata": {},
   "outputs": [
    {
     "name": "stdout",
     "output_type": "stream",
     "text": [
      "[23.618 21.011 21.459 34.955 14.697 14.533 21.849 15.401 13.131 22.175\n",
      " 14.256  6.737 29.168 47.123 34.279 20.787 22.301 19.68  33.    19.808\n",
      " 26.34   8.68  44.228 21.494 23.061 19.615 19.652 25.666 22.511 31.733\n",
      " 19.467  9.124 18.435 20.99  13.463 10.22  12.284 24.206 19.483 15.096\n",
      " 23.995 27.486 15.637 17.071 15.619 13.723 25.611 16.34  48.428 17.816\n",
      " 21.48  32.791 16.777 23.118 19.863 19.235 22.825 35.674 30.026 32.718\n",
      " 21.508 47.379 13.646  6.543 19.141 10.051 26.884 19.072 21.028 46.131\n",
      " 39.854 34.118 20.629 34.326 24.994 49.382 13.272 18.637 19.758 22.302\n",
      " 48.016 23.841 24.798 21.667 43.964 18.318 31.211 34.995  7.857 20.123\n",
      " 18.944 12.44  24.578 48.017 36.068 21.796 38.093 17.951 15.146 28.174\n",
      " 21.922 19.738 17.876 19.305 19.988 22.011 20.171 33.109 21.125 12.967\n",
      " 19.082 20.906 17.714 19.931 48.392 15.887 15.94  18.561 14.317 32.856\n",
      " 15.094 44.321 34.33  19.855 14.576  9.337 11.177 12.754 19.043  8.644\n",
      " 23.01  12.112 20.146 46.483 22.242 19.616 31.664 21.021 32.363 32.098\n",
      " 14.615 15.76  49.021 20.694 16.231 12.689 49.46  31.512 11.468 19.435\n",
      " 25.919 31.946 22.658  9.435 24.145 23.887 22.1   12.839 27.526 33.069\n",
      " 14.767 19.18  26.831 34.806 29.829 22.942 11.118 23.24  22.922 35.43\n",
      " 23.521 20.179 19.327 10.5   22.404 19.317 20.489 10.933 41.894 47.208\n",
      " 13.424 20.557 24.449 16.854 21.601 22.169 33.098 21.01  24.765 19.067\n",
      " 32.127 14.686 14.73  22.641 23.736 17.892 26.313 27.264 27.562 21.175\n",
      " 18.766 27.283 14.499 20.737 17.996 41.058 27.42  20.785 25.586 18.515\n",
      " 17.871 19.322 23.683 25.882 16.825 14.038 21.655 21.769 10.18  19.075\n",
      " 21.321 19.453 18.869  9.121 22.798 20.41  15.638 23.252 30.118 22.421\n",
      " 14.124 19.912 30.147 21.548 47.493 17.693 30.782 48.055 16.909 17.597\n",
      "  9.558 20.159 16.471 16.665 16.294 20.104 29.712 28.058 19.526 21.562\n",
      " 24.79  10.652 26.823 47.301 20.988 22.701 20.126 12.904 19.121 15.635\n",
      " 14.01  23.016 15.241 20.882 26.567 17.986 23.463 14.641 21.347 20.24\n",
      " 25.868 27.958 23.214 19.23  23.119 24.837 14.873 19.627 24.507 16.891\n",
      " 24.298 30.774 16.564 25.014 16.336 13.709 11.505 24.884 14.551 37.678\n",
      " 19.912 41.816  9.116 22.918 14.406 15.121 17.455 22.963 22.291 46.189\n",
      " 19.355 30.446 26.037 18.447 25.42  11.692 41.785 20.705 17.534 24.835\n",
      " 16.69  24.462  7.711 23.958 19.032 21.64  23.544 23.386 17.669 18.122\n",
      " 13.926 26.491 14.051 22.352 20.385 14.983 16.95  22.609 24.849 21.853\n",
      " 23.374 30.95  21.096 20.116 28.587 23.298 13.243 23.744 12.115  9.001\n",
      " 20.553 10.164 47.562 25.462 12.323 17.271 14.331 28.043 19.189 20.791\n",
      "  9.796 21.037 21.822 20.045 23.707 25.143 27.648 14.013 16.612 20.872\n",
      " 18.924 24.785 14.651 25.215 33.433 26.365 24.497 18.795 20.488 14.466\n",
      " 23.237 13.79  23.333 22.153 21.273 17.67  11.708 32.848 19.275 48.975\n",
      " 22.932 23.467 21.191 18.954  8.481 21.276 23.214 21.171 17.209 26.195\n",
      " 21.378 27.67  14.605 48.805 29.224 24.46  22.129 17.723 30.779 15.624\n",
      " 23.066 21.441 19.86  22.932]\n"
     ]
    }
   ],
   "source": [
    "rf_data_pred = rf_model.predict(Xtrain)\n",
    "print(rf_data_pred)"
   ]
  },
  {
   "cell_type": "code",
   "execution_count": 54,
   "id": "8862ae5c",
   "metadata": {},
   "outputs": [
    {
     "name": "stdout",
     "output_type": "stream",
     "text": [
      "R squared error :  0.9816087110575238\n",
      "Mean Absolute Error :  0.849945544554455\n"
     ]
    }
   ],
   "source": [
    "score_1 = metrics.r2_score(ytrain, rf_data_pred)\n",
    "score_2 = metrics.mean_absolute_error(ytrain, rf_data_pred)\n",
    "\n",
    "print(\"R squared error : \", score_1)\n",
    "print('Mean Absolute Error : ', score_2)"
   ]
  },
  {
   "cell_type": "code",
   "execution_count": 77,
   "id": "70bec5bd",
   "metadata": {},
   "outputs": [
    {
     "name": "stdout",
     "output_type": "stream",
     "text": [
      "R squared error :  0.8880392106193861\n",
      "Mean Absolute Error :  2.154039215686274\n"
     ]
    }
   ],
   "source": [
    "rf_test_data_prediction = rf_model.predict(Xtest)\n",
    "score_1 = metrics.r2_score(ytest, rf_test_data_prediction)\n",
    "\n",
    "# Mean Absolute Error\n",
    "score_2 = metrics.mean_absolute_error(ytest, rf_test_data_prediction)\n",
    "\n",
    "print(\"R squared error : \", score_1)\n",
    "print('Mean Absolute Error : ', score_2)"
   ]
  },
  {
   "cell_type": "code",
   "execution_count": 58,
   "id": "c2959799",
   "metadata": {},
   "outputs": [
    {
     "name": "stdout",
     "output_type": "stream",
     "text": [
      "[25.17295307 23.3870198  19.74397975 30.78152279 13.50255552 12.67565354\n",
      " 21.08111355 11.04324891 13.56310834 24.10569534 16.03886373 11.98778317\n",
      " 32.18140948 25.0842246  29.93324643 19.40758762 24.20180931 23.90278185\n",
      " 30.75067776 19.34280171 32.97503601  4.13173161 40.70212869 23.8698408\n",
      " 19.84242603 23.44193806 21.40896543 25.30760238 22.42944857 33.524385\n",
      " 25.23534701  8.29056417 17.17154084  9.82477598 20.2156485  13.47133637\n",
      " 18.54835041 24.98831007 14.15267303 18.39409012 24.57861012 28.31230052\n",
      " 17.72448926 24.44702026 12.67907716 11.41018765 27.85310468 19.278362\n",
      " 44.42887775 17.2392329  22.37147757 33.53294025 21.50433936 21.18966466\n",
      " 20.8398149  22.07161553 26.74936498 33.15873236 26.23428388 32.53311168\n",
      " 21.22498557 41.21267729 16.37841024  8.54389973 23.14731868 13.98081979\n",
      " 28.4055177  16.82209394 26.1409507  38.76188661 34.77806191 35.43962814\n",
      " 21.93788047 29.30128073 25.28827914 42.12715494 19.65869304 22.15771207\n",
      " 17.60856912 27.27083938 33.33913734 25.81989197 27.78239109 23.09560186\n",
      " 38.35814213 20.50332434 32.52583673 33.18302216 -5.24912956 20.24706378\n",
      " 16.75515303 11.09617927 24.31759631 39.77167627 34.16656408 17.02111404\n",
      " 33.2628269  16.57982613 11.00078273 30.0010228  23.48214555 22.54435478\n",
      " 19.84319163 14.93660741 23.99628489 26.79168363 17.80948718 32.12065374\n",
      " 25.58324943 13.19009445 20.67814482 19.8641605  18.62229259 22.53866095\n",
      " 24.4594809  15.36253786 19.4485286  17.12432726  9.93674827 34.89750701\n",
      " 13.95685609 34.97042982 34.22206279 20.10034393 19.03974401  2.16628839\n",
      " 11.60245409 10.1623357  18.18107206 10.60142152 25.41328462 15.78403482\n",
      " 20.30277575 36.07656508 26.40191971 22.20781104 28.97906791 25.58862566\n",
      " 31.10480246 27.88098496 18.75424014 13.10942377 42.50338829 23.20663232\n",
      " 14.85815437 13.21200529 37.1556085  33.22742739 13.35659835 19.89982137\n",
      " 25.56549599 33.13261878 29.41335868  6.51264745 24.80726938 27.49480188\n",
      " 27.61894826  0.31236159 30.65300166 35.54885545 14.81926833 21.83373909\n",
      " 27.84484774 30.79385066 31.06994655 26.63260615 16.88786327 23.15216629\n",
      " 20.86170661 28.53485699 25.40559637 21.34332598 20.84410243 11.77796234\n",
      " 24.803161   18.2612143  23.61370481 14.38519779 30.30829955 42.08456136\n",
      " 20.77058108 23.8551069  25.89146014 17.24907146 21.04860496 25.80411782\n",
      " 24.05367552 21.96097121 28.26970064 19.63053105 36.07089844 12.88261703\n",
      " 17.88553701 24.53703375 18.68372738 18.90996445 25.6753984  15.67663176\n",
      " 25.95910463 22.97285934 20.60510868 33.52293134 12.80767883 22.29227913\n",
      " 15.64309862 38.29293241 29.8925726  21.81424743 26.82418393 20.22377406\n",
      " 15.23201098 19.52873632 23.51169962 22.83520411 16.61434712 15.19827798\n",
      " 19.55759606 24.0535585  16.75901177 19.41695926 20.87989029 22.03400214\n",
      " 14.90684779 12.23624434 23.68437555 22.38819536  8.44780857 29.07164821\n",
      " 32.81490994 25.90519971 12.76057676 19.54183456 38.57940236 10.55200598\n",
      " 26.75404008 20.94161127 32.26095363 44.28999377 15.99966391 16.32030457\n",
      "  6.21766719 20.49737752 11.41627751 12.76467818 20.35232919 20.74708116\n",
      " 30.42939443 32.17164201 18.0288012  22.24421824 28.27679053 12.19684376\n",
      " 27.9208706  35.30960703 20.56736388 24.49986453 20.16222417 11.66211253\n",
      " 19.48677417 18.1129024  12.37944008 30.05241709 20.01237804 22.7734503\n",
      " 24.32270287 16.9390722  29.02674424 15.5562149  20.50120905 15.29906973\n",
      " 22.97669382 31.17011037 28.0690664  13.40235439 24.50056068 30.89375997\n",
      " 14.74161689 19.96694152 24.42229285 21.12096957 29.63840939 32.97251018\n",
      " 11.07106515 28.34039316 19.32161799 17.61545581 13.60081124 29.02932689\n",
      " 13.65665442 35.49459891 21.44493164 36.74930043  5.48815175 23.4505274\n",
      " 18.27136659 16.40506645 14.98115593 27.1549228  21.14610349 38.41149324\n",
      " 23.11434829 31.46613967 29.12506246 20.79120636 27.99898711 18.5326946\n",
      " 35.68617893 21.59579547 18.67246406 26.8807078  22.70798743 25.44880554\n",
      "  8.08935684 25.24732268 18.81574362 21.99629848 24.13272046 20.30760295\n",
      " 19.07749719 17.68215788 13.31498046 26.96779651 13.26188143 24.03712555\n",
      " 22.09070807 18.88894952 15.88971571 27.05755861 24.64351188 24.54160224\n",
      " 24.91825464 25.43268637 16.3481393  20.1972207  24.83494085 23.38741328\n",
      "  5.69457262 21.46583149  8.13751992 18.14437765 20.16921797 10.24798043\n",
      " 37.35316704 27.05737441 16.01260935 15.52611278 16.85105091 28.05464482\n",
      " 17.14855181 17.47120029  7.00347639 21.33013514 20.02042434 21.26820214\n",
      " 28.32726931 27.88072513 28.27075696 16.11462804 18.45621954 21.6159314\n",
      " 16.68331694 21.26807661 14.87684615 28.49191803 36.01534992 31.02803827\n",
      " 25.10542831 19.69759289 21.64161553 14.64360943 22.32329875 14.34629145\n",
      " 23.05694553 20.68939233 24.16483529 21.76795752 14.96152437 35.86257458\n",
      " 18.8930663  40.58400226 22.57551877 25.26159275 23.45338323 19.56863124\n",
      "  7.32623999 24.91648344 26.88418176 21.57377955 17.77016825 24.95451165\n",
      " 21.63089659 28.46438165 16.98630448 40.97479424 35.43188869 24.31024772\n",
      " 23.2886007  13.73627126 31.76333095 15.95184444 24.06322524 21.010179\n",
      " 19.93917136 26.05096742]\n"
     ]
    }
   ],
   "source": [
    "rigde_model.fit(Xtrain, ytrain)\n",
    "ridge_data_pred = rigde_model.predict(Xtrain)\n",
    "print(ridge_data_pred)"
   ]
  },
  {
   "cell_type": "code",
   "execution_count": 59,
   "id": "46120253",
   "metadata": {},
   "outputs": [
    {
     "name": "stdout",
     "output_type": "stream",
     "text": [
      "R squared error :  0.7265745724418409\n",
      "Mean Absolute Error :  3.3662999390828703\n"
     ]
    }
   ],
   "source": [
    "score_1 = metrics.r2_score(ytrain, ridge_data_pred)\n",
    "score_2 = metrics.mean_absolute_error(ytrain, ridge_data_pred)\n",
    "\n",
    "print(\"R squared error : \", score_1)\n",
    "print('Mean Absolute Error : ', score_2)"
   ]
  },
  {
   "cell_type": "code",
   "execution_count": 78,
   "id": "b92e1a98",
   "metadata": {},
   "outputs": [
    {
     "name": "stdout",
     "output_type": "stream",
     "text": [
      "R squared error :  0.773410232276074\n",
      "Mean Absolute Error :  3.164121497971413\n"
     ]
    }
   ],
   "source": [
    "rigde_test_data_prediction = rigde_model.predict(Xtest)\n",
    "score_1 = metrics.r2_score(ytest, rigde_test_data_prediction)\n",
    "\n",
    "# Mean Absolute Error\n",
    "score_2 = metrics.mean_absolute_error(ytest, rigde_test_data_prediction)\n",
    "\n",
    "print(\"R squared error : \", score_1)\n",
    "print('Mean Absolute Error : ', score_2)"
   ]
  },
  {
   "cell_type": "code",
   "execution_count": 61,
   "id": "ef85420f",
   "metadata": {},
   "outputs": [
    {
     "name": "stdout",
     "output_type": "stream",
     "text": [
      "[26.20907913 24.6303664  21.15071198 30.38927193 16.04253709 14.2722433\n",
      " 22.5059338  12.2926882  15.31179378 23.22325057 17.14471178 10.86816112\n",
      " 31.0155499  25.72855131 29.28455781 19.60862685 25.70737729 24.60285862\n",
      " 30.04472508 20.70210227 31.44993079  1.81495016 35.3165761  24.65507384\n",
      " 20.20894316 24.49155195 21.64503483 26.84731176 22.65763665 31.71971758\n",
      " 24.99116098  7.62698443 18.74762878  6.66282853 17.09065957 14.15861504\n",
      " 19.52323532 26.45294242 14.56144683 18.29228169 24.18324768 27.04306349\n",
      " 18.12863901 23.60151636 14.71488912 12.25384855 29.20357541 19.02631671\n",
      " 37.54201128 18.76497695 22.46280178 33.00853616 20.74599151 23.88923102\n",
      " 21.14915641 24.29828797 24.02131616 31.64520979 30.3376011  30.78491614\n",
      " 21.65432743 35.45281375 14.63829632 10.92901406 23.82544349 11.24138993\n",
      " 28.43469955 16.34303957 26.5649879  35.73590487 31.14531356 32.70906509\n",
      " 22.24995974 29.85169702 26.19705126 35.54415025 18.17658905 23.16766091\n",
      " 21.55254512 26.7122225  30.90632495 26.38757221 30.68303779 23.61447855\n",
      " 34.71155119 19.94477222 30.92067716 30.68680506 -3.22652456 23.10236616\n",
      " 14.65774273 11.42654101 24.59194202 34.17755729 33.00730038 16.35038841\n",
      " 33.18934906 20.49691211 13.22764338 29.64985855 24.78734212 22.05794243\n",
      " 21.27796489 16.19306301 25.10283816 27.24363653 17.47788226 29.21125131\n",
      " 23.19855207 13.86254173 20.33330339 24.20248093 18.67306833 22.26536539\n",
      " 29.79505215 12.85174964 18.65778982 19.68408852 11.81812652 31.20841727\n",
      " 15.13923019 30.91317036 31.38918948 19.7271508  18.30420889  2.03374678\n",
      " 10.32594514 12.14662286 21.10708122  7.92073266 25.54712239 13.79854159\n",
      " 24.79410158 32.52317218 26.58629573 24.19101401 29.07582984 22.87839337\n",
      " 29.40640923 27.57979769 19.69990734 12.70742261 38.28272283 24.97990599\n",
      " 16.41973801 11.63590315 34.71957333 34.28530882 13.26551171 20.7180272\n",
      " 23.3749775  31.78317061 30.646214    7.14802353 24.04547495 28.15433271\n",
      " 27.42598214  0.85148441 29.38123006 30.74028236 19.4172304  23.57968674\n",
      " 27.69008862 29.53049744 31.00558135 25.40775784 15.60195542 25.84549833\n",
      " 20.47232654 28.35372074 27.09267269 21.49142431 23.19321947 11.94471782\n",
      " 26.30646287 18.28879185 24.4083844  14.60561389 27.89878046 37.58203105\n",
      " 19.8562651  25.27346325 26.40272198 14.46553534 21.4667599  26.14925966\n",
      " 25.21701519 22.424849   28.58960052 19.75957584 32.31135301 12.88911753\n",
      " 19.09759929 24.80708505 15.71296308 22.14906102 25.02178481 24.65352061\n",
      " 27.86474309 24.14678742 19.77181928 28.7203843  11.32221028 19.63394069\n",
      " 17.7923202  35.70992939 29.06853725 22.55401756 26.1292078  19.97658005\n",
      " 17.75498441 20.43497646 23.58766042 23.94749033 16.34442267 12.87483326\n",
      " 20.37136752 24.5952934  17.06678164 20.88917442 21.76238053 23.52465403\n",
      " 20.22101487  8.94558754 23.80225429 23.22531151  8.13874749 30.0083809\n",
      " 32.28396716 27.25737687 12.20429251 20.41082746 30.85804314 17.51248103\n",
      " 25.51222459 23.32309317 30.21093588 38.69286655 16.00702668 15.07104178\n",
      "  7.08615059 20.04253049 11.02299295 11.05355721 18.40531409 21.31309123\n",
      " 30.04889892 28.3781067  19.83165043 20.95781379 28.14281529 10.47284915\n",
      " 28.25048118 32.07467881 20.39739578 23.8626576  20.47016375 10.03272384\n",
      " 20.56279585 17.50450077 13.29164318 27.78403888 18.96380257 24.39087253\n",
      " 24.91204699 17.09409952 29.50906749 14.98560939 19.75395572 16.13302945\n",
      " 23.88473691 30.84164088 27.95339797 15.7546445  26.97399335 31.37905626\n",
      " 15.97239403 19.32611638 25.37797481 18.77848753 30.13716512 30.48003724\n",
      " 12.57302698 28.22262049 19.12922656 16.91922608 12.34852864 30.92323639\n",
      " 14.91660013 29.64218939 24.06959465 33.70322859  8.6320902  20.52079018\n",
      " 18.4627501  18.39517532 14.47076446 28.16907865 23.48792343 34.03776583\n",
      " 20.47514875 30.71146651 30.26893571 20.97936478 28.21159566 17.11741835\n",
      " 31.79962347 22.91599123 21.14485919 27.39324481 25.06149747 26.31581792\n",
      "  7.52068976 27.78464893 21.19067539 21.78687517 25.45099099 22.57085394\n",
      " 19.26701596 18.14404359 13.58683135 27.50186029 13.42271151 26.91307492\n",
      " 21.78384443 18.2403608  18.3767707  28.32724701 25.05111064 24.05571014\n",
      " 25.99547723 26.51700355 20.18004266 21.27888533 24.31411002 23.27823752\n",
      "  4.56952917 22.9918278  12.06489187 17.02257947 23.03114186 11.45816844\n",
      " 33.4182446  27.25221678 17.37107912 16.55970597 15.53842149 27.98315088\n",
      " 18.88412449 17.94162693  7.20987195 21.85147019 21.54614967 22.35722912\n",
      " 28.18048721 28.69965639 27.98640888 15.34197294 20.57865493 23.04435291\n",
      " 13.79227355 24.32507636 14.14285796 27.23198368 34.36736208 30.34433307\n",
      " 25.98211562 22.08777619 24.20944142 15.35778226 25.03584908 15.90896828\n",
      " 23.34368272 22.3390648  26.18915474 20.66943738 15.02822629 33.39422147\n",
      " 19.38195253 36.95496249 23.83610991 25.53055538 23.07378616 20.75665073\n",
      "  7.79121578 21.83024327 28.18120827 22.14041774 18.0969927  24.47965547\n",
      " 21.73400396 27.53996562 17.00071925 36.30039513 32.56514654 26.50102942\n",
      " 23.18278284 14.65748165 30.60381718 16.22157413 24.91140892 21.85555235\n",
      " 22.78609823 26.4703173 ]\n"
     ]
    }
   ],
   "source": [
    "lasso_model.fit(Xtrain, ytrain)\n",
    "lasso_data_pred = lasso_model.predict(Xtrain)\n",
    "print(lasso_data_pred)"
   ]
  },
  {
   "cell_type": "code",
   "execution_count": 62,
   "id": "f03ac355",
   "metadata": {},
   "outputs": [
    {
     "name": "stdout",
     "output_type": "stream",
     "text": [
      "R squared error :  0.6711914173003578\n",
      "Mean Absolute Error :  3.695358402053464\n"
     ]
    }
   ],
   "source": [
    "score_1 = metrics.r2_score(ytrain, lasso_data_pred)\n",
    "score_2 = metrics.mean_absolute_error(ytrain, lasso_data_pred)\n",
    "\n",
    "print(\"R squared error : \", score_1)\n",
    "print('Mean Absolute Error : ', score_2)"
   ]
  },
  {
   "cell_type": "code",
   "execution_count": 79,
   "id": "6100d36e",
   "metadata": {},
   "outputs": [
    {
     "name": "stdout",
     "output_type": "stream",
     "text": [
      "R squared error :  0.7278708111412346\n",
      "Mean Absolute Error :  3.479992839660714\n"
     ]
    }
   ],
   "source": [
    "lasso_test_data_prediction = lasso_model.predict(Xtest)\n",
    "score_1 = metrics.r2_score(ytest, lasso_test_data_prediction)\n",
    "\n",
    "# Mean Absolute Error\n",
    "score_2 = metrics.mean_absolute_error(ytest, lasso_test_data_prediction)\n",
    "\n",
    "print(\"R squared error : \", score_1)\n",
    "print('Mean Absolute Error : ', score_2)"
   ]
  },
  {
   "cell_type": "code",
   "execution_count": 64,
   "id": "55ebccbb",
   "metadata": {},
   "outputs": [],
   "source": [
    "from sklearn.metrics import mean_squared_error\n",
    "from sklearn.metrics import mean_absolute_error"
   ]
  },
  {
   "cell_type": "code",
   "execution_count": 65,
   "id": "07877966",
   "metadata": {},
   "outputs": [],
   "source": [
    "def metrics_print(y_test, pred):  \n",
    "    mae = mean_absolute_error(y_test, pred)\n",
    "    mse = mean_squared_error(y_test, pred)\n",
    "    r2 = r2_score(y_test, pred)\n",
    "    print('MAE:', mae)\n",
    "    print('MSE:', mse)\n",
    "    print('R2:', r2)\n",
    "    print('')"
   ]
  },
  {
   "cell_type": "code",
   "execution_count": 66,
   "id": "d40fe86d",
   "metadata": {},
   "outputs": [],
   "source": [
    "def save_metrics(y_test,pred):\n",
    "    mae = mean_absolute_error(y_test, pred)\n",
    "    mse = mean_squared_error(y_test, pred)\n",
    "    r2 = r2_score(y_test, pred)\n",
    "    return mae, mse, r2"
   ]
  },
  {
   "cell_type": "code",
   "execution_count": 80,
   "id": "8a3366dd",
   "metadata": {
    "scrolled": true
   },
   "outputs": [
    {
     "name": "stdout",
     "output_type": "stream",
     "text": [
      "Metrics for Lin train:\n",
      "\n",
      "MAE: 3.384457539916797\n",
      "MSE: 22.95369357611288\n",
      "R2: 0.7285831776605591\n",
      "\n",
      "Metrics for Lin test:\n",
      "\n",
      "MAE: 3.1130437468934176\n",
      "MSE: 18.49542012244836\n",
      "R2: 0.7789207451814422\n",
      "\n"
     ]
    }
   ],
   "source": [
    "print('Metrics for Lin train:\\n')\n",
    "metrics_print(ytrain, lin_data_pred)\n",
    "print('Metrics for Lin test:\\n')\n",
    "metrics_print(ytest, lin_test_data_prediction)"
   ]
  },
  {
   "cell_type": "code",
   "execution_count": 82,
   "id": "6fefecc8",
   "metadata": {
    "scrolled": true
   },
   "outputs": [
    {
     "name": "stdout",
     "output_type": "stream",
     "text": [
      "Metrics for rf train:\n",
      "\n",
      "MAE: 0.849945544554455\n",
      "MSE: 1.5553494702970299\n",
      "R2: 0.9816087110575238\n",
      "\n",
      "Metrics for rf test:\n",
      "\n",
      "MAE: 2.154039215686274\n",
      "MSE: 9.366604019607838\n",
      "R2: 0.8880392106193861\n",
      "\n"
     ]
    }
   ],
   "source": [
    "print('Metrics for rf train:\\n')\n",
    "metrics_print(ytrain, rf_data_pred)\n",
    "print('Metrics for rf test:\\n')\n",
    "metrics_print(ytest, rf_test_data_prediction)"
   ]
  },
  {
   "cell_type": "code",
   "execution_count": 83,
   "id": "333ac565",
   "metadata": {
    "scrolled": true
   },
   "outputs": [
    {
     "name": "stdout",
     "output_type": "stream",
     "text": [
      "Metrics for rigde train:\n",
      "\n",
      "MAE: 3.3662999390828703\n",
      "MSE: 23.123561118988242\n",
      "R2: 0.7265745724418409\n",
      "\n",
      "Metrics for rigde test:\n",
      "\n",
      "MAE: 3.164121497971413\n",
      "MSE: 18.95642787895905\n",
      "R2: 0.773410232276074\n",
      "\n"
     ]
    }
   ],
   "source": [
    "print('Metrics for rigde train:\\n')\n",
    "metrics_print(ytrain, ridge_data_pred)\n",
    "print('Metrics for rigde test:\\n')\n",
    "metrics_print(ytest, rigde_test_data_prediction)"
   ]
  },
  {
   "cell_type": "code",
   "execution_count": 84,
   "id": "a2e5c39f",
   "metadata": {},
   "outputs": [
    {
     "name": "stdout",
     "output_type": "stream",
     "text": [
      "Metrics for lasso train:\n",
      "\n",
      "MAE: 3.695358402053464\n",
      "MSE: 27.8073090217106\n",
      "R2: 0.6711914173003578\n",
      "\n",
      "Metrics for lasso test:\n",
      "\n",
      "MAE: 3.479992839660714\n",
      "MSE: 22.766241362875565\n",
      "R2: 0.7278708111412346\n",
      "\n"
     ]
    }
   ],
   "source": [
    "print('Metrics for lasso train:\\n')\n",
    "metrics_print(ytrain, lasso_data_pred)\n",
    "print('Metrics for lasso test:\\n')\n",
    "metrics_print(ytest, lasso_test_data_prediction)"
   ]
  },
  {
   "cell_type": "code",
   "execution_count": 105,
   "id": "1943500b",
   "metadata": {},
   "outputs": [],
   "source": [
    "lin_mae,lin_mse,lin_r2 = save_metrics(ytest, lin_test_data_prediction)\n",
    "rf_mae, rf_mse,rf_r2 = save_metrics(ytest, rf_test_data_prediction)\n",
    "rigde_mae, rigde_mse, rigde_r2 = save_metrics(ytest, rigde_test_data_prediction)\n",
    "lasso_mae, lasso_mse, lasso_r2 = save_metrics(ytest, lasso_test_data_prediction)"
   ]
  },
  {
   "cell_type": "code",
   "execution_count": 100,
   "id": "6883e743",
   "metadata": {},
   "outputs": [
    {
     "data": {
      "text/plain": [
       "array([-0.06160345,  0.04051973, -0.        ,  0.        , -0.        ,\n",
       "        0.95854325,  0.0287643 , -0.60788027,  0.27947241, -0.01458622,\n",
       "       -0.78959877,  0.01048665, -0.79663783])"
      ]
     },
     "execution_count": 100,
     "metadata": {},
     "output_type": "execute_result"
    }
   ],
   "source": [
    "lasso_model.coef_"
   ]
  },
  {
   "cell_type": "code",
   "execution_count": 95,
   "id": "a6288b6e",
   "metadata": {},
   "outputs": [],
   "source": [
    "lin_feat = pd.DataFrame(lin_model.coef_, index=X_train.columns, columns=['coef']).sort_values(['coef'], ascending=False)"
   ]
  },
  {
   "cell_type": "code",
   "execution_count": 96,
   "id": "cdf80f90",
   "metadata": {},
   "outputs": [
    {
     "data": {
      "text/html": [
       "<div>\n",
       "<style scoped>\n",
       "    .dataframe tbody tr th:only-of-type {\n",
       "        vertical-align: middle;\n",
       "    }\n",
       "\n",
       "    .dataframe tbody tr th {\n",
       "        vertical-align: top;\n",
       "    }\n",
       "\n",
       "    .dataframe thead th {\n",
       "        text-align: right;\n",
       "    }\n",
       "</style>\n",
       "<table border=\"1\" class=\"dataframe\">\n",
       "  <thead>\n",
       "    <tr style=\"text-align: right;\">\n",
       "      <th></th>\n",
       "      <th>coef</th>\n",
       "    </tr>\n",
       "  </thead>\n",
       "  <tbody>\n",
       "    <tr>\n",
       "      <th>rm</th>\n",
       "      <td>3.632885</td>\n",
       "    </tr>\n",
       "    <tr>\n",
       "      <th>chas</th>\n",
       "      <td>3.158979</td>\n",
       "    </tr>\n",
       "    <tr>\n",
       "      <th>rad</th>\n",
       "      <td>0.324066</td>\n",
       "    </tr>\n",
       "    <tr>\n",
       "      <th>zn</th>\n",
       "      <td>0.038904</td>\n",
       "    </tr>\n",
       "    <tr>\n",
       "      <th>b</th>\n",
       "      <td>0.011613</td>\n",
       "    </tr>\n",
       "    <tr>\n",
       "      <th>age</th>\n",
       "      <td>0.009351</td>\n",
       "    </tr>\n",
       "    <tr>\n",
       "      <th>tax</th>\n",
       "      <td>-0.011625</td>\n",
       "    </tr>\n",
       "    <tr>\n",
       "      <th>indus</th>\n",
       "      <td>-0.015152</td>\n",
       "    </tr>\n",
       "    <tr>\n",
       "      <th>crim</th>\n",
       "      <td>-0.108224</td>\n",
       "    </tr>\n",
       "    <tr>\n",
       "      <th>lstat</th>\n",
       "      <td>-0.558409</td>\n",
       "    </tr>\n",
       "    <tr>\n",
       "      <th>ptratio</th>\n",
       "      <td>-1.036443</td>\n",
       "    </tr>\n",
       "    <tr>\n",
       "      <th>dis</th>\n",
       "      <td>-1.386182</td>\n",
       "    </tr>\n",
       "    <tr>\n",
       "      <th>nox</th>\n",
       "      <td>-16.585407</td>\n",
       "    </tr>\n",
       "  </tbody>\n",
       "</table>\n",
       "</div>"
      ],
      "text/plain": [
       "              coef\n",
       "rm        3.632885\n",
       "chas      3.158979\n",
       "rad       0.324066\n",
       "zn        0.038904\n",
       "b         0.011613\n",
       "age       0.009351\n",
       "tax      -0.011625\n",
       "indus    -0.015152\n",
       "crim     -0.108224\n",
       "lstat    -0.558409\n",
       "ptratio  -1.036443\n",
       "dis      -1.386182\n",
       "nox     -16.585407"
      ]
     },
     "execution_count": 96,
     "metadata": {},
     "output_type": "execute_result"
    }
   ],
   "source": [
    "lin_feat"
   ]
  },
  {
   "cell_type": "code",
   "execution_count": 104,
   "id": "5df36447",
   "metadata": {},
   "outputs": [
    {
     "data": {
      "text/html": [
       "<div>\n",
       "<style scoped>\n",
       "    .dataframe tbody tr th:only-of-type {\n",
       "        vertical-align: middle;\n",
       "    }\n",
       "\n",
       "    .dataframe tbody tr th {\n",
       "        vertical-align: top;\n",
       "    }\n",
       "\n",
       "    .dataframe thead th {\n",
       "        text-align: right;\n",
       "    }\n",
       "</style>\n",
       "<table border=\"1\" class=\"dataframe\">\n",
       "  <thead>\n",
       "    <tr style=\"text-align: right;\">\n",
       "      <th></th>\n",
       "      <th>coef</th>\n",
       "    </tr>\n",
       "  </thead>\n",
       "  <tbody>\n",
       "    <tr>\n",
       "      <th>rm</th>\n",
       "      <td>0.958543</td>\n",
       "    </tr>\n",
       "    <tr>\n",
       "      <th>rad</th>\n",
       "      <td>0.279472</td>\n",
       "    </tr>\n",
       "    <tr>\n",
       "      <th>zn</th>\n",
       "      <td>0.040520</td>\n",
       "    </tr>\n",
       "    <tr>\n",
       "      <th>age</th>\n",
       "      <td>0.028764</td>\n",
       "    </tr>\n",
       "    <tr>\n",
       "      <th>b</th>\n",
       "      <td>0.010487</td>\n",
       "    </tr>\n",
       "    <tr>\n",
       "      <th>indus</th>\n",
       "      <td>-0.000000</td>\n",
       "    </tr>\n",
       "    <tr>\n",
       "      <th>chas</th>\n",
       "      <td>0.000000</td>\n",
       "    </tr>\n",
       "    <tr>\n",
       "      <th>nox</th>\n",
       "      <td>-0.000000</td>\n",
       "    </tr>\n",
       "    <tr>\n",
       "      <th>tax</th>\n",
       "      <td>-0.014586</td>\n",
       "    </tr>\n",
       "    <tr>\n",
       "      <th>crim</th>\n",
       "      <td>-0.061603</td>\n",
       "    </tr>\n",
       "    <tr>\n",
       "      <th>dis</th>\n",
       "      <td>-0.607880</td>\n",
       "    </tr>\n",
       "    <tr>\n",
       "      <th>ptratio</th>\n",
       "      <td>-0.789599</td>\n",
       "    </tr>\n",
       "    <tr>\n",
       "      <th>lstat</th>\n",
       "      <td>-0.796638</td>\n",
       "    </tr>\n",
       "  </tbody>\n",
       "</table>\n",
       "</div>"
      ],
      "text/plain": [
       "             coef\n",
       "rm       0.958543\n",
       "rad      0.279472\n",
       "zn       0.040520\n",
       "age      0.028764\n",
       "b        0.010487\n",
       "indus   -0.000000\n",
       "chas     0.000000\n",
       "nox     -0.000000\n",
       "tax     -0.014586\n",
       "crim    -0.061603\n",
       "dis     -0.607880\n",
       "ptratio -0.789599\n",
       "lstat   -0.796638"
      ]
     },
     "execution_count": 104,
     "metadata": {},
     "output_type": "execute_result"
    }
   ],
   "source": [
    "laso_feat=pd.DataFrame(lasso_model.coef_, index=X_train.columns, columns=['coef']).sort_values(['coef'], ascending=False)\n",
    "laso_feat"
   ]
  },
  {
   "cell_type": "code",
   "execution_count": 107,
   "id": "d012860d",
   "metadata": {},
   "outputs": [],
   "source": [
    "algoritm = ['Linear Regression','Random Forest Regressor','Ridge Regression','Lasso Regression']\n",
    "result = {'MAE':[lin_mae, rf_mae,  rigde_mae, lasso_mae],\n",
    "         'MSE':[lin_mse, rf_mse, rigde_mse, lasso_mse],\n",
    "         'R2':[lin_r2, rf_r2, rigde_r2, lasso_r2]\n",
    "         }"
   ]
  },
  {
   "cell_type": "code",
   "execution_count": 108,
   "id": "846ebe09",
   "metadata": {},
   "outputs": [
    {
     "data": {
      "text/html": [
       "<div>\n",
       "<style scoped>\n",
       "    .dataframe tbody tr th:only-of-type {\n",
       "        vertical-align: middle;\n",
       "    }\n",
       "\n",
       "    .dataframe tbody tr th {\n",
       "        vertical-align: top;\n",
       "    }\n",
       "\n",
       "    .dataframe thead th {\n",
       "        text-align: right;\n",
       "    }\n",
       "</style>\n",
       "<table border=\"1\" class=\"dataframe\">\n",
       "  <thead>\n",
       "    <tr style=\"text-align: right;\">\n",
       "      <th></th>\n",
       "      <th>MAE</th>\n",
       "      <th>MSE</th>\n",
       "      <th>R2</th>\n",
       "    </tr>\n",
       "  </thead>\n",
       "  <tbody>\n",
       "    <tr>\n",
       "      <th>Linear Regression</th>\n",
       "      <td>3.113044</td>\n",
       "      <td>18.495420</td>\n",
       "      <td>0.778921</td>\n",
       "    </tr>\n",
       "    <tr>\n",
       "      <th>Random Forest Regressor</th>\n",
       "      <td>2.154039</td>\n",
       "      <td>9.366604</td>\n",
       "      <td>0.888039</td>\n",
       "    </tr>\n",
       "    <tr>\n",
       "      <th>Ridge Regression</th>\n",
       "      <td>3.164121</td>\n",
       "      <td>18.956428</td>\n",
       "      <td>0.773410</td>\n",
       "    </tr>\n",
       "    <tr>\n",
       "      <th>Lasso Regression</th>\n",
       "      <td>3.479993</td>\n",
       "      <td>22.766241</td>\n",
       "      <td>0.727871</td>\n",
       "    </tr>\n",
       "  </tbody>\n",
       "</table>\n",
       "</div>"
      ],
      "text/plain": [
       "                              MAE        MSE        R2\n",
       "Linear Regression        3.113044  18.495420  0.778921\n",
       "Random Forest Regressor  2.154039   9.366604  0.888039\n",
       "Ridge Regression         3.164121  18.956428  0.773410\n",
       "Lasso Regression         3.479993  22.766241  0.727871"
      ]
     },
     "execution_count": 108,
     "metadata": {},
     "output_type": "execute_result"
    }
   ],
   "source": [
    "Result = pd.DataFrame(result, index=algoritm)\n",
    "Result"
   ]
  },
  {
   "cell_type": "code",
   "execution_count": null,
   "id": "02288c93",
   "metadata": {},
   "outputs": [],
   "source": []
  }
 ],
 "metadata": {
  "kernelspec": {
   "display_name": "Python 3 (ipykernel)",
   "language": "python",
   "name": "python3"
  },
  "language_info": {
   "codemirror_mode": {
    "name": "ipython",
    "version": 3
   },
   "file_extension": ".py",
   "mimetype": "text/x-python",
   "name": "python",
   "nbconvert_exporter": "python",
   "pygments_lexer": "ipython3",
   "version": "3.10.4"
  }
 },
 "nbformat": 4,
 "nbformat_minor": 5
}
